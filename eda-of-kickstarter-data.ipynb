{
 "cells": [
  {
   "cell_type": "code",
   "execution_count": 1,
   "metadata": {
    "_cell_guid": "b1076dfc-b9ad-4769-8c92-a6c4dae69d19",
    "_uuid": "8f2839f25d086af736a60e9eeb907d3b93b6e0e5"
   },
   "outputs": [
    {
     "name": "stdout",
     "output_type": "stream",
     "text": [
      "/kaggle/input/kickstarter-projects/ks-projects-201801.csv\n",
      "/kaggle/input/kickstarter-projects/ks-projects-201612.csv\n"
     ]
    }
   ],
   "source": [
    "# This Python 3 environment comes with many helpful analytics libraries installed\n",
    "# It is defined by the kaggle/python docker image: https://github.com/kaggle/docker-python\n",
    "# For example, here's several helpful packages to load in \n",
    "\n",
    "import numpy as np # linear algebra\n",
    "import pandas as pd # data processing, CSV file I/O (e.g. pd.read_csv)\n",
    "import matplotlib.pyplot as plt\n",
    "import datetime as dt\n",
    "import seaborn as sns\n",
    "%matplotlib inline\n",
    "plt.style.use(\"ggplot\")\n",
    "\n",
    "# Input data files are available in the \"../input/\" directory.\n",
    "# For example, running this (by clicking run or pressing Shift+Enter) will list all files under the input directory\n",
    "\n",
    "import os\n",
    "for dirname, _, filenames in os.walk('/kaggle/input'):\n",
    "    for filename in filenames:\n",
    "        print(os.path.join(dirname, filename))\n",
    "\n",
    "# Any results you write to the current directory are saved as output."
   ]
  },
  {
   "cell_type": "markdown",
   "metadata": {},
   "source": [
    "# 1. a) Examine the state column to see unique values and counts."
   ]
  },
  {
   "cell_type": "code",
   "execution_count": 2,
   "metadata": {
    "_cell_guid": "79c7e3d0-c299-4dcb-8224-4455121ee9b0",
    "_uuid": "d629ff2d2480ee46fbb7e2d37f6b5fab8052498a"
   },
   "outputs": [
    {
     "name": "stdout",
     "output_type": "stream",
     "text": [
      "<class 'pandas.core.frame.DataFrame'>\n",
      "RangeIndex: 378661 entries, 0 to 378660\n",
      "Data columns (total 15 columns):\n",
      "ID                  378661 non-null int64\n",
      "name                378657 non-null object\n",
      "category            378661 non-null object\n",
      "main_category       378661 non-null object\n",
      "currency            378661 non-null object\n",
      "deadline            378661 non-null object\n",
      "goal                378661 non-null float64\n",
      "launched            378661 non-null object\n",
      "pledged             378661 non-null float64\n",
      "state               378661 non-null object\n",
      "backers             378661 non-null int64\n",
      "country             378661 non-null object\n",
      "usd pledged         374864 non-null float64\n",
      "usd_pledged_real    378661 non-null float64\n",
      "usd_goal_real       378661 non-null float64\n",
      "dtypes: float64(5), int64(2), object(8)\n",
      "memory usage: 43.3+ MB\n"
     ]
    }
   ],
   "source": [
    "ks2018 = pd.read_csv(\"/kaggle/input/kickstarter-projects/ks-projects-201801.csv\", low_memory=False)\n",
    "ks2018.info()"
   ]
  },
  {
   "cell_type": "code",
   "execution_count": 3,
   "metadata": {},
   "outputs": [
    {
     "data": {
      "text/html": [
       "<div>\n",
       "<style scoped>\n",
       "    .dataframe tbody tr th:only-of-type {\n",
       "        vertical-align: middle;\n",
       "    }\n",
       "\n",
       "    .dataframe tbody tr th {\n",
       "        vertical-align: top;\n",
       "    }\n",
       "\n",
       "    .dataframe thead th {\n",
       "        text-align: right;\n",
       "    }\n",
       "</style>\n",
       "<table border=\"1\" class=\"dataframe\">\n",
       "  <thead>\n",
       "    <tr style=\"text-align: right;\">\n",
       "      <th></th>\n",
       "      <th>ID</th>\n",
       "      <th>name</th>\n",
       "      <th>category</th>\n",
       "      <th>main_category</th>\n",
       "      <th>currency</th>\n",
       "      <th>deadline</th>\n",
       "      <th>goal</th>\n",
       "      <th>launched</th>\n",
       "      <th>pledged</th>\n",
       "      <th>state</th>\n",
       "      <th>backers</th>\n",
       "      <th>country</th>\n",
       "      <th>usd pledged</th>\n",
       "      <th>usd_pledged_real</th>\n",
       "      <th>usd_goal_real</th>\n",
       "    </tr>\n",
       "  </thead>\n",
       "  <tbody>\n",
       "    <tr>\n",
       "      <th>0</th>\n",
       "      <td>1000002330</td>\n",
       "      <td>The Songs of Adelaide &amp; Abullah</td>\n",
       "      <td>Poetry</td>\n",
       "      <td>Publishing</td>\n",
       "      <td>GBP</td>\n",
       "      <td>2015-10-09</td>\n",
       "      <td>1000.0</td>\n",
       "      <td>2015-08-11 12:12:28</td>\n",
       "      <td>0.0</td>\n",
       "      <td>failed</td>\n",
       "      <td>0</td>\n",
       "      <td>GB</td>\n",
       "      <td>0.0</td>\n",
       "      <td>0.0</td>\n",
       "      <td>1533.95</td>\n",
       "    </tr>\n",
       "    <tr>\n",
       "      <th>1</th>\n",
       "      <td>1000003930</td>\n",
       "      <td>Greeting From Earth: ZGAC Arts Capsule For ET</td>\n",
       "      <td>Narrative Film</td>\n",
       "      <td>Film &amp; Video</td>\n",
       "      <td>USD</td>\n",
       "      <td>2017-11-01</td>\n",
       "      <td>30000.0</td>\n",
       "      <td>2017-09-02 04:43:57</td>\n",
       "      <td>2421.0</td>\n",
       "      <td>failed</td>\n",
       "      <td>15</td>\n",
       "      <td>US</td>\n",
       "      <td>100.0</td>\n",
       "      <td>2421.0</td>\n",
       "      <td>30000.00</td>\n",
       "    </tr>\n",
       "    <tr>\n",
       "      <th>2</th>\n",
       "      <td>1000004038</td>\n",
       "      <td>Where is Hank?</td>\n",
       "      <td>Narrative Film</td>\n",
       "      <td>Film &amp; Video</td>\n",
       "      <td>USD</td>\n",
       "      <td>2013-02-26</td>\n",
       "      <td>45000.0</td>\n",
       "      <td>2013-01-12 00:20:50</td>\n",
       "      <td>220.0</td>\n",
       "      <td>failed</td>\n",
       "      <td>3</td>\n",
       "      <td>US</td>\n",
       "      <td>220.0</td>\n",
       "      <td>220.0</td>\n",
       "      <td>45000.00</td>\n",
       "    </tr>\n",
       "    <tr>\n",
       "      <th>3</th>\n",
       "      <td>1000007540</td>\n",
       "      <td>ToshiCapital Rekordz Needs Help to Complete Album</td>\n",
       "      <td>Music</td>\n",
       "      <td>Music</td>\n",
       "      <td>USD</td>\n",
       "      <td>2012-04-16</td>\n",
       "      <td>5000.0</td>\n",
       "      <td>2012-03-17 03:24:11</td>\n",
       "      <td>1.0</td>\n",
       "      <td>failed</td>\n",
       "      <td>1</td>\n",
       "      <td>US</td>\n",
       "      <td>1.0</td>\n",
       "      <td>1.0</td>\n",
       "      <td>5000.00</td>\n",
       "    </tr>\n",
       "    <tr>\n",
       "      <th>4</th>\n",
       "      <td>1000011046</td>\n",
       "      <td>Community Film Project: The Art of Neighborhoo...</td>\n",
       "      <td>Film &amp; Video</td>\n",
       "      <td>Film &amp; Video</td>\n",
       "      <td>USD</td>\n",
       "      <td>2015-08-29</td>\n",
       "      <td>19500.0</td>\n",
       "      <td>2015-07-04 08:35:03</td>\n",
       "      <td>1283.0</td>\n",
       "      <td>canceled</td>\n",
       "      <td>14</td>\n",
       "      <td>US</td>\n",
       "      <td>1283.0</td>\n",
       "      <td>1283.0</td>\n",
       "      <td>19500.00</td>\n",
       "    </tr>\n",
       "  </tbody>\n",
       "</table>\n",
       "</div>"
      ],
      "text/plain": [
       "           ID                                               name  \\\n",
       "0  1000002330                    The Songs of Adelaide & Abullah   \n",
       "1  1000003930      Greeting From Earth: ZGAC Arts Capsule For ET   \n",
       "2  1000004038                                     Where is Hank?   \n",
       "3  1000007540  ToshiCapital Rekordz Needs Help to Complete Album   \n",
       "4  1000011046  Community Film Project: The Art of Neighborhoo...   \n",
       "\n",
       "         category main_category currency    deadline     goal  \\\n",
       "0          Poetry    Publishing      GBP  2015-10-09   1000.0   \n",
       "1  Narrative Film  Film & Video      USD  2017-11-01  30000.0   \n",
       "2  Narrative Film  Film & Video      USD  2013-02-26  45000.0   \n",
       "3           Music         Music      USD  2012-04-16   5000.0   \n",
       "4    Film & Video  Film & Video      USD  2015-08-29  19500.0   \n",
       "\n",
       "              launched  pledged     state  backers country  usd pledged  \\\n",
       "0  2015-08-11 12:12:28      0.0    failed        0      GB          0.0   \n",
       "1  2017-09-02 04:43:57   2421.0    failed       15      US        100.0   \n",
       "2  2013-01-12 00:20:50    220.0    failed        3      US        220.0   \n",
       "3  2012-03-17 03:24:11      1.0    failed        1      US          1.0   \n",
       "4  2015-07-04 08:35:03   1283.0  canceled       14      US       1283.0   \n",
       "\n",
       "   usd_pledged_real  usd_goal_real  \n",
       "0               0.0        1533.95  \n",
       "1            2421.0       30000.00  \n",
       "2             220.0       45000.00  \n",
       "3               1.0        5000.00  \n",
       "4            1283.0       19500.00  "
      ]
     },
     "execution_count": 3,
     "metadata": {},
     "output_type": "execute_result"
    }
   ],
   "source": [
    "ks2018.head()"
   ]
  },
  {
   "cell_type": "code",
   "execution_count": 4,
   "metadata": {},
   "outputs": [],
   "source": [
    "states = ks2018.state.value_counts()\n",
    "labels = states.index\n",
    "values = states.values"
   ]
  },
  {
   "cell_type": "markdown",
   "metadata": {},
   "source": [
    "# 1. b) Show a pie chart of the state project count for all projects."
   ]
  },
  {
   "cell_type": "code",
   "execution_count": 5,
   "metadata": {},
   "outputs": [
    {
     "data": {
      "image/png": "[encoded data removed]",
      "text/plain": [
       "<Figure size 432x432 with 1 Axes>"
      ]
     },
     "metadata": {},
     "output_type": "display_data"
    }
   ],
   "source": [
    "fig, ax = plt.subplots(figsize = (6,6))\n",
    "plt.pie(values, labels = labels, startangle=90, autopct='%1.1f%%')\n",
    "ax.legend(labels, title=\"State:\", loc=\"right\")\n",
    "ax.set_title(\"Kickstarter Projects  - States of Success\")\n",
    "plt.axis(\"equal\")\n",
    "plt.show()"
   ]
  },
  {
   "cell_type": "markdown",
   "metadata": {},
   "source": [
    "# 1. c) Create a new \"Completed\" dataframe that removes any rows with state of `live`, `undefined`, or `suspended`."
   ]
  },
  {
   "cell_type": "code",
   "execution_count": 6,
   "metadata": {},
   "outputs": [],
   "source": [
    "filt = (ks2018.state == \"live\")|(ks2018.state ==\"undefined\")|(ks2018.state == \"suspended\")\n",
    "completed = ks2018[~filt].copy()"
   ]
  },
  {
   "cell_type": "code",
   "execution_count": 7,
   "metadata": {},
   "outputs": [
    {
     "data": {
      "text/plain": [
       "failed        197719\n",
       "successful    133956\n",
       "canceled       38779\n",
       "Name: state, dtype: int64"
      ]
     },
     "execution_count": 7,
     "metadata": {},
     "output_type": "execute_result"
    }
   ],
   "source": [
    "completed.state.value_counts()"
   ]
  },
  {
   "cell_type": "markdown",
   "metadata": {},
   "source": [
    "# 2. a) What is the overall success rate for all completed kickstarter projects?"
   ]
  },
  {
   "cell_type": "code",
   "execution_count": 8,
   "metadata": {},
   "outputs": [
    {
     "data": {
      "text/plain": [
       "failed        0.533721\n",
       "successful    0.361600\n",
       "canceled      0.104680\n",
       "Name: state, dtype: float64"
      ]
     },
     "execution_count": 8,
     "metadata": {},
     "output_type": "execute_result"
    }
   ],
   "source": [
    "completed.state.value_counts(normalize=True)"
   ]
  },
  {
   "cell_type": "markdown",
   "metadata": {},
   "source": [
    "* ### Success rate of overall Projects: 36%"
   ]
  },
  {
   "cell_type": "markdown",
   "metadata": {},
   "source": [
    "# 2. b) Which 5 projects were pledged the most money (usd_pledged_real)?"
   ]
  },
  {
   "cell_type": "code",
   "execution_count": 9,
   "metadata": {},
   "outputs": [],
   "source": [
    "completed.head()\n",
    "top5 = completed.sort_values(by=\"usd_pledged_real\", ascending=False).head()"
   ]
  },
  {
   "cell_type": "markdown",
   "metadata": {},
   "source": [
    "### these were the top 5 pledged projects:"
   ]
  },
  {
   "cell_type": "code",
   "execution_count": 10,
   "metadata": {},
   "outputs": [
    {
     "data": {
      "text/plain": [
       "157270     Pebble Time - Awesome Smartwatch, No Compromises\n",
       "250254    COOLEST COOLER: 21st Century Cooler that's Act...\n",
       "216629               Pebble 2, Time 2 + All-New Pebble Core\n",
       "289915                           Kingdom Death: Monster 1.5\n",
       "282416         Pebble: E-Paper Watch for iPhone and Android\n",
       "Name: name, dtype: object"
      ]
     },
     "execution_count": 10,
     "metadata": {},
     "output_type": "execute_result"
    }
   ],
   "source": [
    "top5.name"
   ]
  },
  {
   "cell_type": "markdown",
   "metadata": {},
   "source": [
    "# 2. c) Which 5 projects had the most backers?"
   ]
  },
  {
   "cell_type": "code",
   "execution_count": 11,
   "metadata": {},
   "outputs": [],
   "source": [
    "top_backers = completed.sort_values(by=\"backers\", ascending=False).head()"
   ]
  },
  {
   "cell_type": "markdown",
   "metadata": {},
   "source": [
    "### these were the most backed projects:"
   ]
  },
  {
   "cell_type": "code",
   "execution_count": 12,
   "metadata": {},
   "outputs": [
    {
     "data": {
      "text/plain": [
       "187652                                    Exploding Kittens\n",
       "75900                         Fidget Cube: A Vinyl Desk Toy\n",
       "292244    Bring Reading Rainbow Back for Every Child, Ev...\n",
       "148585                      The Veronica Mars Movie Project\n",
       "182657                                Double Fine Adventure\n",
       "Name: name, dtype: object"
      ]
     },
     "execution_count": 12,
     "metadata": {},
     "output_type": "execute_result"
    }
   ],
   "source": [
    "top_backers.name"
   ]
  },
  {
   "cell_type": "markdown",
   "metadata": {},
   "source": [
    "# 2. d) Which year had the most competition? (# of projects) "
   ]
  },
  {
   "cell_type": "code",
   "execution_count": 13,
   "metadata": {},
   "outputs": [
    {
     "data": {
      "text/html": [
       "<div>\n",
       "<style scoped>\n",
       "    .dataframe tbody tr th:only-of-type {\n",
       "        vertical-align: middle;\n",
       "    }\n",
       "\n",
       "    .dataframe tbody tr th {\n",
       "        vertical-align: top;\n",
       "    }\n",
       "\n",
       "    .dataframe thead th {\n",
       "        text-align: right;\n",
       "    }\n",
       "</style>\n",
       "<table border=\"1\" class=\"dataframe\">\n",
       "  <thead>\n",
       "    <tr style=\"text-align: right;\">\n",
       "      <th></th>\n",
       "      <th>ID</th>\n",
       "      <th>name</th>\n",
       "      <th>category</th>\n",
       "      <th>main_category</th>\n",
       "      <th>currency</th>\n",
       "      <th>deadline</th>\n",
       "      <th>goal</th>\n",
       "      <th>launched</th>\n",
       "      <th>pledged</th>\n",
       "      <th>state</th>\n",
       "      <th>backers</th>\n",
       "      <th>country</th>\n",
       "      <th>usd pledged</th>\n",
       "      <th>usd_pledged_real</th>\n",
       "      <th>usd_goal_real</th>\n",
       "    </tr>\n",
       "  </thead>\n",
       "  <tbody>\n",
       "    <tr>\n",
       "      <th>0</th>\n",
       "      <td>1000002330</td>\n",
       "      <td>The Songs of Adelaide &amp; Abullah</td>\n",
       "      <td>Poetry</td>\n",
       "      <td>Publishing</td>\n",
       "      <td>GBP</td>\n",
       "      <td>2015-10-09</td>\n",
       "      <td>1000.0</td>\n",
       "      <td>2015-08-11 12:12:28</td>\n",
       "      <td>0.0</td>\n",
       "      <td>failed</td>\n",
       "      <td>0</td>\n",
       "      <td>GB</td>\n",
       "      <td>0.0</td>\n",
       "      <td>0.0</td>\n",
       "      <td>1533.95</td>\n",
       "    </tr>\n",
       "    <tr>\n",
       "      <th>1</th>\n",
       "      <td>1000003930</td>\n",
       "      <td>Greeting From Earth: ZGAC Arts Capsule For ET</td>\n",
       "      <td>Narrative Film</td>\n",
       "      <td>Film &amp; Video</td>\n",
       "      <td>USD</td>\n",
       "      <td>2017-11-01</td>\n",
       "      <td>30000.0</td>\n",
       "      <td>2017-09-02 04:43:57</td>\n",
       "      <td>2421.0</td>\n",
       "      <td>failed</td>\n",
       "      <td>15</td>\n",
       "      <td>US</td>\n",
       "      <td>100.0</td>\n",
       "      <td>2421.0</td>\n",
       "      <td>30000.00</td>\n",
       "    </tr>\n",
       "    <tr>\n",
       "      <th>2</th>\n",
       "      <td>1000004038</td>\n",
       "      <td>Where is Hank?</td>\n",
       "      <td>Narrative Film</td>\n",
       "      <td>Film &amp; Video</td>\n",
       "      <td>USD</td>\n",
       "      <td>2013-02-26</td>\n",
       "      <td>45000.0</td>\n",
       "      <td>2013-01-12 00:20:50</td>\n",
       "      <td>220.0</td>\n",
       "      <td>failed</td>\n",
       "      <td>3</td>\n",
       "      <td>US</td>\n",
       "      <td>220.0</td>\n",
       "      <td>220.0</td>\n",
       "      <td>45000.00</td>\n",
       "    </tr>\n",
       "    <tr>\n",
       "      <th>3</th>\n",
       "      <td>1000007540</td>\n",
       "      <td>ToshiCapital Rekordz Needs Help to Complete Album</td>\n",
       "      <td>Music</td>\n",
       "      <td>Music</td>\n",
       "      <td>USD</td>\n",
       "      <td>2012-04-16</td>\n",
       "      <td>5000.0</td>\n",
       "      <td>2012-03-17 03:24:11</td>\n",
       "      <td>1.0</td>\n",
       "      <td>failed</td>\n",
       "      <td>1</td>\n",
       "      <td>US</td>\n",
       "      <td>1.0</td>\n",
       "      <td>1.0</td>\n",
       "      <td>5000.00</td>\n",
       "    </tr>\n",
       "    <tr>\n",
       "      <th>4</th>\n",
       "      <td>1000011046</td>\n",
       "      <td>Community Film Project: The Art of Neighborhoo...</td>\n",
       "      <td>Film &amp; Video</td>\n",
       "      <td>Film &amp; Video</td>\n",
       "      <td>USD</td>\n",
       "      <td>2015-08-29</td>\n",
       "      <td>19500.0</td>\n",
       "      <td>2015-07-04 08:35:03</td>\n",
       "      <td>1283.0</td>\n",
       "      <td>canceled</td>\n",
       "      <td>14</td>\n",
       "      <td>US</td>\n",
       "      <td>1283.0</td>\n",
       "      <td>1283.0</td>\n",
       "      <td>19500.00</td>\n",
       "    </tr>\n",
       "  </tbody>\n",
       "</table>\n",
       "</div>"
      ],
      "text/plain": [
       "           ID                                               name  \\\n",
       "0  1000002330                    The Songs of Adelaide & Abullah   \n",
       "1  1000003930      Greeting From Earth: ZGAC Arts Capsule For ET   \n",
       "2  1000004038                                     Where is Hank?   \n",
       "3  1000007540  ToshiCapital Rekordz Needs Help to Complete Album   \n",
       "4  1000011046  Community Film Project: The Art of Neighborhoo...   \n",
       "\n",
       "         category main_category currency    deadline     goal  \\\n",
       "0          Poetry    Publishing      GBP  2015-10-09   1000.0   \n",
       "1  Narrative Film  Film & Video      USD  2017-11-01  30000.0   \n",
       "2  Narrative Film  Film & Video      USD  2013-02-26  45000.0   \n",
       "3           Music         Music      USD  2012-04-16   5000.0   \n",
       "4    Film & Video  Film & Video      USD  2015-08-29  19500.0   \n",
       "\n",
       "              launched  pledged     state  backers country  usd pledged  \\\n",
       "0  2015-08-11 12:12:28      0.0    failed        0      GB          0.0   \n",
       "1  2017-09-02 04:43:57   2421.0    failed       15      US        100.0   \n",
       "2  2013-01-12 00:20:50    220.0    failed        3      US        220.0   \n",
       "3  2012-03-17 03:24:11      1.0    failed        1      US          1.0   \n",
       "4  2015-07-04 08:35:03   1283.0  canceled       14      US       1283.0   \n",
       "\n",
       "   usd_pledged_real  usd_goal_real  \n",
       "0               0.0        1533.95  \n",
       "1            2421.0       30000.00  \n",
       "2             220.0       45000.00  \n",
       "3               1.0        5000.00  \n",
       "4            1283.0       19500.00  "
      ]
     },
     "execution_count": 13,
     "metadata": {},
     "output_type": "execute_result"
    }
   ],
   "source": [
    "completed.head()"
   ]
  },
  {
   "cell_type": "code",
   "execution_count": 14,
   "metadata": {},
   "outputs": [
    {
     "name": "stdout",
     "output_type": "stream",
     "text": [
      "<class 'pandas.core.frame.DataFrame'>\n",
      "Int64Index: 370454 entries, 0 to 378660\n",
      "Data columns (total 15 columns):\n",
      "ID                  370454 non-null int64\n",
      "name                370451 non-null object\n",
      "category            370454 non-null object\n",
      "main_category       370454 non-null object\n",
      "currency            370454 non-null object\n",
      "deadline            370454 non-null datetime64[ns]\n",
      "goal                370454 non-null float64\n",
      "launched            370454 non-null datetime64[ns]\n",
      "pledged             370454 non-null float64\n",
      "state               370454 non-null object\n",
      "backers             370454 non-null int64\n",
      "country             370454 non-null object\n",
      "usd pledged         370222 non-null float64\n",
      "usd_pledged_real    370454 non-null float64\n",
      "usd_goal_real       370454 non-null float64\n",
      "dtypes: datetime64[ns](2), float64(5), int64(2), object(6)\n",
      "memory usage: 45.2+ MB\n"
     ]
    }
   ],
   "source": [
    "# value counts of years --> extract year from launched col\n",
    "\n",
    "completed['launched'] = pd.to_datetime(completed['launched'])\n",
    "completed['deadline'] = pd.to_datetime(completed['deadline'])\n",
    "completed.info()"
   ]
  },
  {
   "cell_type": "code",
   "execution_count": 15,
   "metadata": {},
   "outputs": [],
   "source": [
    "# drop all rows with launched --> 1970!!\n",
    "# Get names of indexes for which column launched has value 1970\n",
    "indexNames = completed[completed['launched'].dt.year == 1970 ].index\n",
    "# Delete these row indexes from dataFrame\n",
    "completed.drop(indexNames , inplace=True)"
   ]
  },
  {
   "cell_type": "code",
   "execution_count": 16,
   "metadata": {},
   "outputs": [
    {
     "data": {
      "text/plain": [
       "2015    74199\n",
       "2014    66724\n",
       "2016    56411\n",
       "2017    49185\n",
       "2013    44791\n",
       "2012    41111\n",
       "2011    26193\n",
       "2010    10503\n",
       "2009     1329\n",
       "2018        2\n",
       "Name: launched, dtype: int64"
      ]
     },
     "execution_count": 16,
     "metadata": {},
     "output_type": "execute_result"
    }
   ],
   "source": [
    "completed.launched.dt.year.value_counts()"
   ]
  },
  {
   "cell_type": "markdown",
   "metadata": {},
   "source": [
    "### 2015 was the year with the most competition /highest number of rows aka projects"
   ]
  },
  {
   "cell_type": "markdown",
   "metadata": {},
   "source": [
    "# 3. a) What is the success rate for all projects broken down by main_category?"
   ]
  },
  {
   "cell_type": "code",
   "execution_count": 17,
   "metadata": {},
   "outputs": [
    {
     "data": {
      "text/plain": [
       "main_category  state     \n",
       "Journalism     successful     1012\n",
       "Crafts         successful     2115\n",
       "Dance          successful     2338\n",
       "Photography    successful     3305\n",
       "Fashion        successful     5593\n",
       "Comics         successful     5842\n",
       "Food           successful     6085\n",
       "Technology     successful     6434\n",
       "Theater        successful     6534\n",
       "Design         successful    10550\n",
       "Art            successful    11510\n",
       "Publishing     successful    12300\n",
       "Games          successful    12518\n",
       "Film & Video   successful    23623\n",
       "Music          successful    24197\n",
       "Name: state, dtype: int64"
      ]
     },
     "execution_count": 17,
     "metadata": {},
     "output_type": "execute_result"
    }
   ],
   "source": [
    "completed.head()\n",
    "succ = (completed[\"state\"]==\"successful\")\n",
    "\n",
    "completed[succ].groupby(\"main_category\").state.value_counts().sort_values()"
   ]
  },
  {
   "cell_type": "code",
   "execution_count": 18,
   "metadata": {},
   "outputs": [],
   "source": [
    "succ_sum = completed[succ].name.value_counts().sum()"
   ]
  },
  {
   "cell_type": "code",
   "execution_count": 19,
   "metadata": {},
   "outputs": [
    {
     "data": {
      "text/plain": [
       "133956"
      ]
     },
     "execution_count": 19,
     "metadata": {},
     "output_type": "execute_result"
    }
   ],
   "source": [
    "succ_sum"
   ]
  },
  {
   "cell_type": "markdown",
   "metadata": {},
   "source": [
    "### Success Rate per main category"
   ]
  },
  {
   "cell_type": "code",
   "execution_count": 20,
   "metadata": {},
   "outputs": [
    {
     "name": "stdout",
     "output_type": "stream",
     "text": [
      "Music           18.063394\n",
      "Film & Video    17.634895\n",
      "Games            9.344860\n",
      "Publishing       9.182120\n",
      "Art              8.592374\n",
      "Design           7.875720\n",
      "Theater          4.877721\n",
      "Technology       4.803070\n",
      "Food             4.542536\n",
      "Comics           4.361134\n",
      "Fashion          4.175252\n",
      "Photography      2.467228\n",
      "Dance            1.745349\n",
      "Crafts           1.578877\n",
      "Journalism       0.755472\n",
      "Name: main_category, dtype: float64\n"
     ]
    }
   ],
   "source": [
    "grouped = completed.groupby(['state'])\n",
    "rank_perc = 100 * completed[completed.state == 'successful'].main_category.value_counts() / grouped[\"main_category\"].get_group(\"successful\").count()\n",
    "print(rank_perc)"
   ]
  },
  {
   "cell_type": "markdown",
   "metadata": {},
   "source": [
    "# 3. b) Show a horizontal bar chart for project success rate by main_category, sorted by highest to lowest."
   ]
  },
  {
   "cell_type": "code",
   "execution_count": 21,
   "metadata": {},
   "outputs": [
    {
     "data": {
      "text/plain": [
       "Index(['Music', 'Film & Video', 'Games', 'Publishing', 'Art', 'Design',\n",
       "       'Theater', 'Technology', 'Food', 'Comics', 'Fashion', 'Photography',\n",
       "       'Dance', 'Crafts', 'Journalism'],\n",
       "      dtype='object')"
      ]
     },
     "execution_count": 21,
     "metadata": {},
     "output_type": "execute_result"
    }
   ],
   "source": [
    "rank_perc.index"
   ]
  },
  {
   "cell_type": "code",
   "execution_count": 22,
   "metadata": {},
   "outputs": [
    {
     "data": {
      "image/png": "[encoded data removed]",
      "text/plain": [
       "<Figure size 640x480 with 1 Axes>"
      ]
     },
     "metadata": {},
     "output_type": "display_data"
    }
   ],
   "source": [
    "plt.rcdefaults()\n",
    "fig, ax = plt.subplots()\n",
    "\n",
    "ax.barh(rank_perc.index, rank_perc.values, align='center')\n",
    "ax.set_yticks(rank_perc.index)\n",
    "ax.set_yticklabels(rank_perc.index)\n",
    "ax.invert_yaxis()  # labels read top-to-bottom\n",
    "ax.set_xlabel('Success rate')\n",
    "ax.set_title('Success rate by main category')\n",
    "plt.show()"
   ]
  },
  {
   "cell_type": "markdown",
   "metadata": {},
   "source": [
    "# 3. c) Within the Games main_category, what is the success rate for each category within it? "
   ]
  },
  {
   "cell_type": "code",
   "execution_count": 23,
   "metadata": {},
   "outputs": [],
   "source": [
    "games = completed[completed.main_category==\"Games\"]"
   ]
  },
  {
   "cell_type": "code",
   "execution_count": 24,
   "metadata": {},
   "outputs": [
    {
     "data": {
      "text/plain": [
       "Tabletop Games     14038\n",
       "Video Games        11691\n",
       "Games               3171\n",
       "Playing Cards       2447\n",
       "Mobile Games        1752\n",
       "Live Games          1012\n",
       "Gaming Hardware      386\n",
       "Puzzles              226\n",
       "Name: category, dtype: int64"
      ]
     },
     "execution_count": 24,
     "metadata": {},
     "output_type": "execute_result"
    }
   ],
   "source": [
    "games.category.value_counts()"
   ]
  },
  {
   "cell_type": "markdown",
   "metadata": {},
   "source": [
    "### Success rate per games category"
   ]
  },
  {
   "cell_type": "code",
   "execution_count": 25,
   "metadata": {},
   "outputs": [
    {
     "name": "stdout",
     "output_type": "stream",
     "text": [
      "Tabletop Games     62.837514\n",
      "Video Games        19.060553\n",
      "Playing Cards       7.724876\n",
      "Games               6.223039\n",
      "Live Games          1.437929\n",
      "Mobile Games        1.222240\n",
      "Gaming Hardware     0.790861\n",
      "Puzzles             0.702988\n",
      "Name: category, dtype: float64\n"
     ]
    }
   ],
   "source": [
    "g_grouped = games.groupby(['state'])\n",
    "games_perc = 100 * games[games.state == 'successful'].category.value_counts() / g_grouped[\"category\"].get_group(\"successful\").count()\n",
    "print(games_perc)"
   ]
  },
  {
   "cell_type": "code",
   "execution_count": 26,
   "metadata": {},
   "outputs": [
    {
     "data": {
      "image/png": "[encoded data removed]",
      "text/plain": [
       "<Figure size 640x480 with 1 Axes>"
      ]
     },
     "metadata": {},
     "output_type": "display_data"
    }
   ],
   "source": [
    "plt.rcdefaults()\n",
    "fig, ax = plt.subplots()\n",
    "\n",
    "ax.barh(games_perc.index, games_perc.values, align='center')\n",
    "ax.set_yticks(games_perc.index)\n",
    "ax.set_yticklabels(games_perc.index)\n",
    "ax.invert_yaxis()  # labels read top-to-bottom\n",
    "ax.set_xlabel('Success rate')\n",
    "ax.set_title('Success rate by games category')\n",
    "plt.show()"
   ]
  },
  {
   "cell_type": "markdown",
   "metadata": {},
   "source": [
    "# 4. a) Calculate the `pct_of_goal` for each completed project"
   ]
  },
  {
   "cell_type": "code",
   "execution_count": 27,
   "metadata": {},
   "outputs": [
    {
     "data": {
      "text/html": [
       "<div>\n",
       "<style scoped>\n",
       "    .dataframe tbody tr th:only-of-type {\n",
       "        vertical-align: middle;\n",
       "    }\n",
       "\n",
       "    .dataframe tbody tr th {\n",
       "        vertical-align: top;\n",
       "    }\n",
       "\n",
       "    .dataframe thead th {\n",
       "        text-align: right;\n",
       "    }\n",
       "</style>\n",
       "<table border=\"1\" class=\"dataframe\">\n",
       "  <thead>\n",
       "    <tr style=\"text-align: right;\">\n",
       "      <th></th>\n",
       "      <th>ID</th>\n",
       "      <th>name</th>\n",
       "      <th>category</th>\n",
       "      <th>main_category</th>\n",
       "      <th>currency</th>\n",
       "      <th>deadline</th>\n",
       "      <th>goal</th>\n",
       "      <th>launched</th>\n",
       "      <th>pledged</th>\n",
       "      <th>state</th>\n",
       "      <th>backers</th>\n",
       "      <th>country</th>\n",
       "      <th>usd pledged</th>\n",
       "      <th>usd_pledged_real</th>\n",
       "      <th>usd_goal_real</th>\n",
       "    </tr>\n",
       "  </thead>\n",
       "  <tbody>\n",
       "    <tr>\n",
       "      <th>0</th>\n",
       "      <td>1000002330</td>\n",
       "      <td>The Songs of Adelaide &amp; Abullah</td>\n",
       "      <td>Poetry</td>\n",
       "      <td>Publishing</td>\n",
       "      <td>GBP</td>\n",
       "      <td>2015-10-09</td>\n",
       "      <td>1000.0</td>\n",
       "      <td>2015-08-11 12:12:28</td>\n",
       "      <td>0.0</td>\n",
       "      <td>failed</td>\n",
       "      <td>0</td>\n",
       "      <td>GB</td>\n",
       "      <td>0.0</td>\n",
       "      <td>0.0</td>\n",
       "      <td>1533.95</td>\n",
       "    </tr>\n",
       "    <tr>\n",
       "      <th>1</th>\n",
       "      <td>1000003930</td>\n",
       "      <td>Greeting From Earth: ZGAC Arts Capsule For ET</td>\n",
       "      <td>Narrative Film</td>\n",
       "      <td>Film &amp; Video</td>\n",
       "      <td>USD</td>\n",
       "      <td>2017-11-01</td>\n",
       "      <td>30000.0</td>\n",
       "      <td>2017-09-02 04:43:57</td>\n",
       "      <td>2421.0</td>\n",
       "      <td>failed</td>\n",
       "      <td>15</td>\n",
       "      <td>US</td>\n",
       "      <td>100.0</td>\n",
       "      <td>2421.0</td>\n",
       "      <td>30000.00</td>\n",
       "    </tr>\n",
       "    <tr>\n",
       "      <th>2</th>\n",
       "      <td>1000004038</td>\n",
       "      <td>Where is Hank?</td>\n",
       "      <td>Narrative Film</td>\n",
       "      <td>Film &amp; Video</td>\n",
       "      <td>USD</td>\n",
       "      <td>2013-02-26</td>\n",
       "      <td>45000.0</td>\n",
       "      <td>2013-01-12 00:20:50</td>\n",
       "      <td>220.0</td>\n",
       "      <td>failed</td>\n",
       "      <td>3</td>\n",
       "      <td>US</td>\n",
       "      <td>220.0</td>\n",
       "      <td>220.0</td>\n",
       "      <td>45000.00</td>\n",
       "    </tr>\n",
       "    <tr>\n",
       "      <th>3</th>\n",
       "      <td>1000007540</td>\n",
       "      <td>ToshiCapital Rekordz Needs Help to Complete Album</td>\n",
       "      <td>Music</td>\n",
       "      <td>Music</td>\n",
       "      <td>USD</td>\n",
       "      <td>2012-04-16</td>\n",
       "      <td>5000.0</td>\n",
       "      <td>2012-03-17 03:24:11</td>\n",
       "      <td>1.0</td>\n",
       "      <td>failed</td>\n",
       "      <td>1</td>\n",
       "      <td>US</td>\n",
       "      <td>1.0</td>\n",
       "      <td>1.0</td>\n",
       "      <td>5000.00</td>\n",
       "    </tr>\n",
       "    <tr>\n",
       "      <th>4</th>\n",
       "      <td>1000011046</td>\n",
       "      <td>Community Film Project: The Art of Neighborhoo...</td>\n",
       "      <td>Film &amp; Video</td>\n",
       "      <td>Film &amp; Video</td>\n",
       "      <td>USD</td>\n",
       "      <td>2015-08-29</td>\n",
       "      <td>19500.0</td>\n",
       "      <td>2015-07-04 08:35:03</td>\n",
       "      <td>1283.0</td>\n",
       "      <td>canceled</td>\n",
       "      <td>14</td>\n",
       "      <td>US</td>\n",
       "      <td>1283.0</td>\n",
       "      <td>1283.0</td>\n",
       "      <td>19500.00</td>\n",
       "    </tr>\n",
       "  </tbody>\n",
       "</table>\n",
       "</div>"
      ],
      "text/plain": [
       "           ID                                               name  \\\n",
       "0  1000002330                    The Songs of Adelaide & Abullah   \n",
       "1  1000003930      Greeting From Earth: ZGAC Arts Capsule For ET   \n",
       "2  1000004038                                     Where is Hank?   \n",
       "3  1000007540  ToshiCapital Rekordz Needs Help to Complete Album   \n",
       "4  1000011046  Community Film Project: The Art of Neighborhoo...   \n",
       "\n",
       "         category main_category currency   deadline     goal  \\\n",
       "0          Poetry    Publishing      GBP 2015-10-09   1000.0   \n",
       "1  Narrative Film  Film & Video      USD 2017-11-01  30000.0   \n",
       "2  Narrative Film  Film & Video      USD 2013-02-26  45000.0   \n",
       "3           Music         Music      USD 2012-04-16   5000.0   \n",
       "4    Film & Video  Film & Video      USD 2015-08-29  19500.0   \n",
       "\n",
       "             launched  pledged     state  backers country  usd pledged  \\\n",
       "0 2015-08-11 12:12:28      0.0    failed        0      GB          0.0   \n",
       "1 2017-09-02 04:43:57   2421.0    failed       15      US        100.0   \n",
       "2 2013-01-12 00:20:50    220.0    failed        3      US        220.0   \n",
       "3 2012-03-17 03:24:11      1.0    failed        1      US          1.0   \n",
       "4 2015-07-04 08:35:03   1283.0  canceled       14      US       1283.0   \n",
       "\n",
       "   usd_pledged_real  usd_goal_real  \n",
       "0               0.0        1533.95  \n",
       "1            2421.0       30000.00  \n",
       "2             220.0       45000.00  \n",
       "3               1.0        5000.00  \n",
       "4            1283.0       19500.00  "
      ]
     },
     "execution_count": 27,
     "metadata": {},
     "output_type": "execute_result"
    }
   ],
   "source": [
    "completed.head()"
   ]
  },
  {
   "cell_type": "code",
   "execution_count": 28,
   "metadata": {},
   "outputs": [],
   "source": [
    "completed.loc[:,\"pct_of_goal\"] = ((completed[\"usd_pledged_real\"])/(completed[\"usd_goal_real\"])*100).copy()"
   ]
  },
  {
   "cell_type": "code",
   "execution_count": 29,
   "metadata": {},
   "outputs": [
    {
     "data": {
      "text/html": [
       "<div>\n",
       "<style scoped>\n",
       "    .dataframe tbody tr th:only-of-type {\n",
       "        vertical-align: middle;\n",
       "    }\n",
       "\n",
       "    .dataframe tbody tr th {\n",
       "        vertical-align: top;\n",
       "    }\n",
       "\n",
       "    .dataframe thead th {\n",
       "        text-align: right;\n",
       "    }\n",
       "</style>\n",
       "<table border=\"1\" class=\"dataframe\">\n",
       "  <thead>\n",
       "    <tr style=\"text-align: right;\">\n",
       "      <th></th>\n",
       "      <th>ID</th>\n",
       "      <th>name</th>\n",
       "      <th>category</th>\n",
       "      <th>main_category</th>\n",
       "      <th>currency</th>\n",
       "      <th>deadline</th>\n",
       "      <th>goal</th>\n",
       "      <th>launched</th>\n",
       "      <th>pledged</th>\n",
       "      <th>state</th>\n",
       "      <th>backers</th>\n",
       "      <th>country</th>\n",
       "      <th>usd pledged</th>\n",
       "      <th>usd_pledged_real</th>\n",
       "      <th>usd_goal_real</th>\n",
       "      <th>pct_of_goal</th>\n",
       "    </tr>\n",
       "  </thead>\n",
       "  <tbody>\n",
       "    <tr>\n",
       "      <th>0</th>\n",
       "      <td>1000002330</td>\n",
       "      <td>The Songs of Adelaide &amp; Abullah</td>\n",
       "      <td>Poetry</td>\n",
       "      <td>Publishing</td>\n",
       "      <td>GBP</td>\n",
       "      <td>2015-10-09</td>\n",
       "      <td>1000.0</td>\n",
       "      <td>2015-08-11 12:12:28</td>\n",
       "      <td>0.0</td>\n",
       "      <td>failed</td>\n",
       "      <td>0</td>\n",
       "      <td>GB</td>\n",
       "      <td>0.0</td>\n",
       "      <td>0.0</td>\n",
       "      <td>1533.95</td>\n",
       "      <td>0.000000</td>\n",
       "    </tr>\n",
       "    <tr>\n",
       "      <th>1</th>\n",
       "      <td>1000003930</td>\n",
       "      <td>Greeting From Earth: ZGAC Arts Capsule For ET</td>\n",
       "      <td>Narrative Film</td>\n",
       "      <td>Film &amp; Video</td>\n",
       "      <td>USD</td>\n",
       "      <td>2017-11-01</td>\n",
       "      <td>30000.0</td>\n",
       "      <td>2017-09-02 04:43:57</td>\n",
       "      <td>2421.0</td>\n",
       "      <td>failed</td>\n",
       "      <td>15</td>\n",
       "      <td>US</td>\n",
       "      <td>100.0</td>\n",
       "      <td>2421.0</td>\n",
       "      <td>30000.00</td>\n",
       "      <td>8.070000</td>\n",
       "    </tr>\n",
       "    <tr>\n",
       "      <th>2</th>\n",
       "      <td>1000004038</td>\n",
       "      <td>Where is Hank?</td>\n",
       "      <td>Narrative Film</td>\n",
       "      <td>Film &amp; Video</td>\n",
       "      <td>USD</td>\n",
       "      <td>2013-02-26</td>\n",
       "      <td>45000.0</td>\n",
       "      <td>2013-01-12 00:20:50</td>\n",
       "      <td>220.0</td>\n",
       "      <td>failed</td>\n",
       "      <td>3</td>\n",
       "      <td>US</td>\n",
       "      <td>220.0</td>\n",
       "      <td>220.0</td>\n",
       "      <td>45000.00</td>\n",
       "      <td>0.488889</td>\n",
       "    </tr>\n",
       "    <tr>\n",
       "      <th>3</th>\n",
       "      <td>1000007540</td>\n",
       "      <td>ToshiCapital Rekordz Needs Help to Complete Album</td>\n",
       "      <td>Music</td>\n",
       "      <td>Music</td>\n",
       "      <td>USD</td>\n",
       "      <td>2012-04-16</td>\n",
       "      <td>5000.0</td>\n",
       "      <td>2012-03-17 03:24:11</td>\n",
       "      <td>1.0</td>\n",
       "      <td>failed</td>\n",
       "      <td>1</td>\n",
       "      <td>US</td>\n",
       "      <td>1.0</td>\n",
       "      <td>1.0</td>\n",
       "      <td>5000.00</td>\n",
       "      <td>0.020000</td>\n",
       "    </tr>\n",
       "    <tr>\n",
       "      <th>4</th>\n",
       "      <td>1000011046</td>\n",
       "      <td>Community Film Project: The Art of Neighborhoo...</td>\n",
       "      <td>Film &amp; Video</td>\n",
       "      <td>Film &amp; Video</td>\n",
       "      <td>USD</td>\n",
       "      <td>2015-08-29</td>\n",
       "      <td>19500.0</td>\n",
       "      <td>2015-07-04 08:35:03</td>\n",
       "      <td>1283.0</td>\n",
       "      <td>canceled</td>\n",
       "      <td>14</td>\n",
       "      <td>US</td>\n",
       "      <td>1283.0</td>\n",
       "      <td>1283.0</td>\n",
       "      <td>19500.00</td>\n",
       "      <td>6.579487</td>\n",
       "    </tr>\n",
       "  </tbody>\n",
       "</table>\n",
       "</div>"
      ],
      "text/plain": [
       "           ID                                               name  \\\n",
       "0  1000002330                    The Songs of Adelaide & Abullah   \n",
       "1  1000003930      Greeting From Earth: ZGAC Arts Capsule For ET   \n",
       "2  1000004038                                     Where is Hank?   \n",
       "3  1000007540  ToshiCapital Rekordz Needs Help to Complete Album   \n",
       "4  1000011046  Community Film Project: The Art of Neighborhoo...   \n",
       "\n",
       "         category main_category currency   deadline     goal  \\\n",
       "0          Poetry    Publishing      GBP 2015-10-09   1000.0   \n",
       "1  Narrative Film  Film & Video      USD 2017-11-01  30000.0   \n",
       "2  Narrative Film  Film & Video      USD 2013-02-26  45000.0   \n",
       "3           Music         Music      USD 2012-04-16   5000.0   \n",
       "4    Film & Video  Film & Video      USD 2015-08-29  19500.0   \n",
       "\n",
       "             launched  pledged     state  backers country  usd pledged  \\\n",
       "0 2015-08-11 12:12:28      0.0    failed        0      GB          0.0   \n",
       "1 2017-09-02 04:43:57   2421.0    failed       15      US        100.0   \n",
       "2 2013-01-12 00:20:50    220.0    failed        3      US        220.0   \n",
       "3 2012-03-17 03:24:11      1.0    failed        1      US          1.0   \n",
       "4 2015-07-04 08:35:03   1283.0  canceled       14      US       1283.0   \n",
       "\n",
       "   usd_pledged_real  usd_goal_real  pct_of_goal  \n",
       "0               0.0        1533.95     0.000000  \n",
       "1            2421.0       30000.00     8.070000  \n",
       "2             220.0       45000.00     0.488889  \n",
       "3               1.0        5000.00     0.020000  \n",
       "4            1283.0       19500.00     6.579487  "
      ]
     },
     "execution_count": 29,
     "metadata": {},
     "output_type": "execute_result"
    }
   ],
   "source": [
    "completed.head()"
   ]
  },
  {
   "cell_type": "markdown",
   "metadata": {},
   "source": [
    "# 4. b) What were the top 5 projects when looking at pct_of_goal for all time?"
   ]
  },
  {
   "cell_type": "code",
   "execution_count": 30,
   "metadata": {},
   "outputs": [
    {
     "data": {
      "text/html": [
       "<div>\n",
       "<style scoped>\n",
       "    .dataframe tbody tr th:only-of-type {\n",
       "        vertical-align: middle;\n",
       "    }\n",
       "\n",
       "    .dataframe tbody tr th {\n",
       "        vertical-align: top;\n",
       "    }\n",
       "\n",
       "    .dataframe thead th {\n",
       "        text-align: right;\n",
       "    }\n",
       "</style>\n",
       "<table border=\"1\" class=\"dataframe\">\n",
       "  <thead>\n",
       "    <tr style=\"text-align: right;\">\n",
       "      <th></th>\n",
       "      <th>ID</th>\n",
       "      <th>name</th>\n",
       "      <th>category</th>\n",
       "      <th>main_category</th>\n",
       "      <th>currency</th>\n",
       "      <th>deadline</th>\n",
       "      <th>goal</th>\n",
       "      <th>launched</th>\n",
       "      <th>pledged</th>\n",
       "      <th>state</th>\n",
       "      <th>backers</th>\n",
       "      <th>country</th>\n",
       "      <th>usd pledged</th>\n",
       "      <th>usd_pledged_real</th>\n",
       "      <th>usd_goal_real</th>\n",
       "      <th>pct_of_goal</th>\n",
       "    </tr>\n",
       "  </thead>\n",
       "  <tbody>\n",
       "    <tr>\n",
       "      <th>369176</th>\n",
       "      <td>9509582</td>\n",
       "      <td>VULFPECK /// The Beautiful Game</td>\n",
       "      <td>Music</td>\n",
       "      <td>Music</td>\n",
       "      <td>USD</td>\n",
       "      <td>2016-10-17</td>\n",
       "      <td>1.0</td>\n",
       "      <td>2016-08-18 09:04:03</td>\n",
       "      <td>104277.89</td>\n",
       "      <td>successful</td>\n",
       "      <td>3917</td>\n",
       "      <td>US</td>\n",
       "      <td>23874.13</td>\n",
       "      <td>104277.89</td>\n",
       "      <td>1.0</td>\n",
       "      <td>10427789.0</td>\n",
       "    </tr>\n",
       "    <tr>\n",
       "      <th>186096</th>\n",
       "      <td>1947298033</td>\n",
       "      <td>Re-covering with Friends</td>\n",
       "      <td>Rock</td>\n",
       "      <td>Music</td>\n",
       "      <td>USD</td>\n",
       "      <td>2016-12-13</td>\n",
       "      <td>1.0</td>\n",
       "      <td>2016-10-14 19:04:27</td>\n",
       "      <td>68764.10</td>\n",
       "      <td>successful</td>\n",
       "      <td>955</td>\n",
       "      <td>US</td>\n",
       "      <td>9306.00</td>\n",
       "      <td>68764.10</td>\n",
       "      <td>1.0</td>\n",
       "      <td>6876410.0</td>\n",
       "    </tr>\n",
       "    <tr>\n",
       "      <th>360721</th>\n",
       "      <td>907870443</td>\n",
       "      <td>VULFPECK /// Thrill of the Arts</td>\n",
       "      <td>Music</td>\n",
       "      <td>Music</td>\n",
       "      <td>USD</td>\n",
       "      <td>2015-10-09</td>\n",
       "      <td>1.0</td>\n",
       "      <td>2015-08-10 19:31:56</td>\n",
       "      <td>55266.57</td>\n",
       "      <td>successful</td>\n",
       "      <td>1673</td>\n",
       "      <td>US</td>\n",
       "      <td>55266.57</td>\n",
       "      <td>55266.57</td>\n",
       "      <td>1.0</td>\n",
       "      <td>5526657.0</td>\n",
       "    </tr>\n",
       "    <tr>\n",
       "      <th>76290</th>\n",
       "      <td>1388400809</td>\n",
       "      <td>Energy Hook</td>\n",
       "      <td>Video Games</td>\n",
       "      <td>Games</td>\n",
       "      <td>USD</td>\n",
       "      <td>2013-06-10</td>\n",
       "      <td>1.0</td>\n",
       "      <td>2013-05-10 01:22:38</td>\n",
       "      <td>41535.01</td>\n",
       "      <td>successful</td>\n",
       "      <td>1622</td>\n",
       "      <td>US</td>\n",
       "      <td>41535.01</td>\n",
       "      <td>41535.01</td>\n",
       "      <td>1.0</td>\n",
       "      <td>4153501.0</td>\n",
       "    </tr>\n",
       "    <tr>\n",
       "      <th>81368</th>\n",
       "      <td>1413857335</td>\n",
       "      <td>Band of Brothers 2nd Chance</td>\n",
       "      <td>Tabletop Games</td>\n",
       "      <td>Games</td>\n",
       "      <td>USD</td>\n",
       "      <td>2016-08-02</td>\n",
       "      <td>1.0</td>\n",
       "      <td>2016-07-12 00:29:12</td>\n",
       "      <td>32843.00</td>\n",
       "      <td>successful</td>\n",
       "      <td>268</td>\n",
       "      <td>US</td>\n",
       "      <td>26095.00</td>\n",
       "      <td>32843.00</td>\n",
       "      <td>1.0</td>\n",
       "      <td>3284300.0</td>\n",
       "    </tr>\n",
       "  </tbody>\n",
       "</table>\n",
       "</div>"
      ],
      "text/plain": [
       "                ID                             name        category  \\\n",
       "369176     9509582  VULFPECK /// The Beautiful Game           Music   \n",
       "186096  1947298033         Re-covering with Friends            Rock   \n",
       "360721   907870443  VULFPECK /// Thrill of the Arts           Music   \n",
       "76290   1388400809                      Energy Hook     Video Games   \n",
       "81368   1413857335      Band of Brothers 2nd Chance  Tabletop Games   \n",
       "\n",
       "       main_category currency   deadline  goal            launched    pledged  \\\n",
       "369176         Music      USD 2016-10-17   1.0 2016-08-18 09:04:03  104277.89   \n",
       "186096         Music      USD 2016-12-13   1.0 2016-10-14 19:04:27   68764.10   \n",
       "360721         Music      USD 2015-10-09   1.0 2015-08-10 19:31:56   55266.57   \n",
       "76290          Games      USD 2013-06-10   1.0 2013-05-10 01:22:38   41535.01   \n",
       "81368          Games      USD 2016-08-02   1.0 2016-07-12 00:29:12   32843.00   \n",
       "\n",
       "             state  backers country  usd pledged  usd_pledged_real  \\\n",
       "369176  successful     3917      US     23874.13         104277.89   \n",
       "186096  successful      955      US      9306.00          68764.10   \n",
       "360721  successful     1673      US     55266.57          55266.57   \n",
       "76290   successful     1622      US     41535.01          41535.01   \n",
       "81368   successful      268      US     26095.00          32843.00   \n",
       "\n",
       "        usd_goal_real  pct_of_goal  \n",
       "369176            1.0   10427789.0  \n",
       "186096            1.0    6876410.0  \n",
       "360721            1.0    5526657.0  \n",
       "76290             1.0    4153501.0  \n",
       "81368             1.0    3284300.0  "
      ]
     },
     "execution_count": 30,
     "metadata": {},
     "output_type": "execute_result"
    }
   ],
   "source": [
    "completed.sort_values(\"pct_of_goal\", ascending=False).head()"
   ]
  },
  {
   "cell_type": "code",
   "execution_count": 31,
   "metadata": {},
   "outputs": [
    {
     "data": {
      "text/html": [
       "<div>\n",
       "<style scoped>\n",
       "    .dataframe tbody tr th:only-of-type {\n",
       "        vertical-align: middle;\n",
       "    }\n",
       "\n",
       "    .dataframe tbody tr th {\n",
       "        vertical-align: top;\n",
       "    }\n",
       "\n",
       "    .dataframe thead th {\n",
       "        text-align: right;\n",
       "    }\n",
       "</style>\n",
       "<table border=\"1\" class=\"dataframe\">\n",
       "  <thead>\n",
       "    <tr style=\"text-align: right;\">\n",
       "      <th></th>\n",
       "      <th>ID</th>\n",
       "      <th>name</th>\n",
       "      <th>category</th>\n",
       "      <th>main_category</th>\n",
       "      <th>currency</th>\n",
       "      <th>deadline</th>\n",
       "      <th>goal</th>\n",
       "      <th>launched</th>\n",
       "      <th>pledged</th>\n",
       "      <th>state</th>\n",
       "      <th>backers</th>\n",
       "      <th>country</th>\n",
       "      <th>usd pledged</th>\n",
       "      <th>usd_pledged_real</th>\n",
       "      <th>usd_goal_real</th>\n",
       "      <th>pct_of_goal</th>\n",
       "    </tr>\n",
       "  </thead>\n",
       "  <tbody>\n",
       "    <tr>\n",
       "      <th>0</th>\n",
       "      <td>1000002330</td>\n",
       "      <td>The Songs of Adelaide &amp; Abullah</td>\n",
       "      <td>Poetry</td>\n",
       "      <td>Publishing</td>\n",
       "      <td>GBP</td>\n",
       "      <td>2015-10-09</td>\n",
       "      <td>1000.0</td>\n",
       "      <td>2015-08-11 12:12:28</td>\n",
       "      <td>0.0</td>\n",
       "      <td>failed</td>\n",
       "      <td>0</td>\n",
       "      <td>GB</td>\n",
       "      <td>0.0</td>\n",
       "      <td>0.0</td>\n",
       "      <td>1533.95</td>\n",
       "      <td>0.000000</td>\n",
       "    </tr>\n",
       "    <tr>\n",
       "      <th>1</th>\n",
       "      <td>1000003930</td>\n",
       "      <td>Greeting From Earth: ZGAC Arts Capsule For ET</td>\n",
       "      <td>Narrative Film</td>\n",
       "      <td>Film &amp; Video</td>\n",
       "      <td>USD</td>\n",
       "      <td>2017-11-01</td>\n",
       "      <td>30000.0</td>\n",
       "      <td>2017-09-02 04:43:57</td>\n",
       "      <td>2421.0</td>\n",
       "      <td>failed</td>\n",
       "      <td>15</td>\n",
       "      <td>US</td>\n",
       "      <td>100.0</td>\n",
       "      <td>2421.0</td>\n",
       "      <td>30000.00</td>\n",
       "      <td>8.070000</td>\n",
       "    </tr>\n",
       "    <tr>\n",
       "      <th>2</th>\n",
       "      <td>1000004038</td>\n",
       "      <td>Where is Hank?</td>\n",
       "      <td>Narrative Film</td>\n",
       "      <td>Film &amp; Video</td>\n",
       "      <td>USD</td>\n",
       "      <td>2013-02-26</td>\n",
       "      <td>45000.0</td>\n",
       "      <td>2013-01-12 00:20:50</td>\n",
       "      <td>220.0</td>\n",
       "      <td>failed</td>\n",
       "      <td>3</td>\n",
       "      <td>US</td>\n",
       "      <td>220.0</td>\n",
       "      <td>220.0</td>\n",
       "      <td>45000.00</td>\n",
       "      <td>0.488889</td>\n",
       "    </tr>\n",
       "    <tr>\n",
       "      <th>3</th>\n",
       "      <td>1000007540</td>\n",
       "      <td>ToshiCapital Rekordz Needs Help to Complete Album</td>\n",
       "      <td>Music</td>\n",
       "      <td>Music</td>\n",
       "      <td>USD</td>\n",
       "      <td>2012-04-16</td>\n",
       "      <td>5000.0</td>\n",
       "      <td>2012-03-17 03:24:11</td>\n",
       "      <td>1.0</td>\n",
       "      <td>failed</td>\n",
       "      <td>1</td>\n",
       "      <td>US</td>\n",
       "      <td>1.0</td>\n",
       "      <td>1.0</td>\n",
       "      <td>5000.00</td>\n",
       "      <td>0.020000</td>\n",
       "    </tr>\n",
       "    <tr>\n",
       "      <th>4</th>\n",
       "      <td>1000011046</td>\n",
       "      <td>Community Film Project: The Art of Neighborhoo...</td>\n",
       "      <td>Film &amp; Video</td>\n",
       "      <td>Film &amp; Video</td>\n",
       "      <td>USD</td>\n",
       "      <td>2015-08-29</td>\n",
       "      <td>19500.0</td>\n",
       "      <td>2015-07-04 08:35:03</td>\n",
       "      <td>1283.0</td>\n",
       "      <td>canceled</td>\n",
       "      <td>14</td>\n",
       "      <td>US</td>\n",
       "      <td>1283.0</td>\n",
       "      <td>1283.0</td>\n",
       "      <td>19500.00</td>\n",
       "      <td>6.579487</td>\n",
       "    </tr>\n",
       "  </tbody>\n",
       "</table>\n",
       "</div>"
      ],
      "text/plain": [
       "           ID                                               name  \\\n",
       "0  1000002330                    The Songs of Adelaide & Abullah   \n",
       "1  1000003930      Greeting From Earth: ZGAC Arts Capsule For ET   \n",
       "2  1000004038                                     Where is Hank?   \n",
       "3  1000007540  ToshiCapital Rekordz Needs Help to Complete Album   \n",
       "4  1000011046  Community Film Project: The Art of Neighborhoo...   \n",
       "\n",
       "         category main_category currency   deadline     goal  \\\n",
       "0          Poetry    Publishing      GBP 2015-10-09   1000.0   \n",
       "1  Narrative Film  Film & Video      USD 2017-11-01  30000.0   \n",
       "2  Narrative Film  Film & Video      USD 2013-02-26  45000.0   \n",
       "3           Music         Music      USD 2012-04-16   5000.0   \n",
       "4    Film & Video  Film & Video      USD 2015-08-29  19500.0   \n",
       "\n",
       "             launched  pledged     state  backers country  usd pledged  \\\n",
       "0 2015-08-11 12:12:28      0.0    failed        0      GB          0.0   \n",
       "1 2017-09-02 04:43:57   2421.0    failed       15      US        100.0   \n",
       "2 2013-01-12 00:20:50    220.0    failed        3      US        220.0   \n",
       "3 2012-03-17 03:24:11      1.0    failed        1      US          1.0   \n",
       "4 2015-07-04 08:35:03   1283.0  canceled       14      US       1283.0   \n",
       "\n",
       "   usd_pledged_real  usd_goal_real  pct_of_goal  \n",
       "0               0.0        1533.95     0.000000  \n",
       "1            2421.0       30000.00     8.070000  \n",
       "2             220.0       45000.00     0.488889  \n",
       "3               1.0        5000.00     0.020000  \n",
       "4            1283.0       19500.00     6.579487  "
      ]
     },
     "execution_count": 31,
     "metadata": {},
     "output_type": "execute_result"
    }
   ],
   "source": [
    "hundred = (completed[\"pct_of_goal\"]<=100.00)\n",
    "completed[hundred].head()"
   ]
  },
  {
   "cell_type": "code",
   "execution_count": 32,
   "metadata": {},
   "outputs": [
    {
     "data": {
      "text/plain": [
       "0          0.000000\n",
       "1          8.070000\n",
       "2          0.488889\n",
       "3          0.020000\n",
       "4          6.579487\n",
       "            ...    \n",
       "378656     0.050000\n",
       "378657    10.333333\n",
       "378658     0.133333\n",
       "378659     1.333333\n",
       "378660    26.200000\n",
       "Name: pct_of_goal, Length: 370448, dtype: float64"
      ]
     },
     "execution_count": 32,
     "metadata": {},
     "output_type": "execute_result"
    }
   ],
   "source": [
    "#completed projects by perc_of_goal\n",
    "completed.pct_of_goal"
   ]
  },
  {
   "cell_type": "code",
   "execution_count": 33,
   "metadata": {},
   "outputs": [
    {
     "data": {
      "text/html": [
       "<div>\n",
       "<style scoped>\n",
       "    .dataframe tbody tr th:only-of-type {\n",
       "        vertical-align: middle;\n",
       "    }\n",
       "\n",
       "    .dataframe tbody tr th {\n",
       "        vertical-align: top;\n",
       "    }\n",
       "\n",
       "    .dataframe thead th {\n",
       "        text-align: right;\n",
       "    }\n",
       "</style>\n",
       "<table border=\"1\" class=\"dataframe\">\n",
       "  <thead>\n",
       "    <tr style=\"text-align: right;\">\n",
       "      <th></th>\n",
       "      <th>ID</th>\n",
       "      <th>goal</th>\n",
       "      <th>pledged</th>\n",
       "      <th>backers</th>\n",
       "      <th>usd pledged</th>\n",
       "      <th>usd_pledged_real</th>\n",
       "      <th>usd_goal_real</th>\n",
       "      <th>pct_of_goal</th>\n",
       "    </tr>\n",
       "  </thead>\n",
       "  <tbody>\n",
       "    <tr>\n",
       "      <th>count</th>\n",
       "      <td>3.704480e+05</td>\n",
       "      <td>3.704480e+05</td>\n",
       "      <td>3.704480e+05</td>\n",
       "      <td>370448.000000</td>\n",
       "      <td>3.702160e+05</td>\n",
       "      <td>3.704480e+05</td>\n",
       "      <td>3.704480e+05</td>\n",
       "      <td>3.704480e+05</td>\n",
       "    </tr>\n",
       "    <tr>\n",
       "      <th>mean</th>\n",
       "      <td>1.074462e+09</td>\n",
       "      <td>4.864269e+04</td>\n",
       "      <td>9.753188e+03</td>\n",
       "      <td>106.920880</td>\n",
       "      <td>7.076553e+03</td>\n",
       "      <td>9.147736e+03</td>\n",
       "      <td>4.507701e+04</td>\n",
       "      <td>3.272762e+02</td>\n",
       "    </tr>\n",
       "    <tr>\n",
       "      <th>std</th>\n",
       "      <td>6.192028e+08</td>\n",
       "      <td>1.159877e+06</td>\n",
       "      <td>9.631620e+04</td>\n",
       "      <td>914.986385</td>\n",
       "      <td>7.882322e+04</td>\n",
       "      <td>9.166483e+04</td>\n",
       "      <td>1.128274e+06</td>\n",
       "      <td>2.697486e+04</td>\n",
       "    </tr>\n",
       "    <tr>\n",
       "      <th>min</th>\n",
       "      <td>5.971000e+03</td>\n",
       "      <td>1.000000e-02</td>\n",
       "      <td>0.000000e+00</td>\n",
       "      <td>0.000000</td>\n",
       "      <td>0.000000e+00</td>\n",
       "      <td>0.000000e+00</td>\n",
       "      <td>1.000000e-02</td>\n",
       "      <td>0.000000e+00</td>\n",
       "    </tr>\n",
       "    <tr>\n",
       "      <th>25%</th>\n",
       "      <td>5.375759e+08</td>\n",
       "      <td>2.000000e+03</td>\n",
       "      <td>3.200000e+01</td>\n",
       "      <td>2.000000</td>\n",
       "      <td>1.900000e+01</td>\n",
       "      <td>3.244000e+01</td>\n",
       "      <td>2.000000e+03</td>\n",
       "      <td>4.800000e-01</td>\n",
       "    </tr>\n",
       "    <tr>\n",
       "      <th>50%</th>\n",
       "      <td>1.075079e+09</td>\n",
       "      <td>5.500000e+03</td>\n",
       "      <td>6.300000e+02</td>\n",
       "      <td>12.000000</td>\n",
       "      <td>4.026550e+02</td>\n",
       "      <td>6.330000e+02</td>\n",
       "      <td>5.500000e+03</td>\n",
       "      <td>1.366667e+01</td>\n",
       "    </tr>\n",
       "    <tr>\n",
       "      <th>75%</th>\n",
       "      <td>1.610092e+09</td>\n",
       "      <td>1.630000e+04</td>\n",
       "      <td>4.100000e+03</td>\n",
       "      <td>57.000000</td>\n",
       "      <td>3.065000e+03</td>\n",
       "      <td>4.076000e+03</td>\n",
       "      <td>1.596224e+04</td>\n",
       "      <td>1.066667e+02</td>\n",
       "    </tr>\n",
       "    <tr>\n",
       "      <th>max</th>\n",
       "      <td>2.147476e+09</td>\n",
       "      <td>1.000000e+08</td>\n",
       "      <td>2.033899e+07</td>\n",
       "      <td>219382.000000</td>\n",
       "      <td>2.033899e+07</td>\n",
       "      <td>2.033899e+07</td>\n",
       "      <td>1.663614e+08</td>\n",
       "      <td>1.042779e+07</td>\n",
       "    </tr>\n",
       "  </tbody>\n",
       "</table>\n",
       "</div>"
      ],
      "text/plain": [
       "                 ID          goal       pledged        backers   usd pledged  \\\n",
       "count  3.704480e+05  3.704480e+05  3.704480e+05  370448.000000  3.702160e+05   \n",
       "mean   1.074462e+09  4.864269e+04  9.753188e+03     106.920880  7.076553e+03   \n",
       "std    6.192028e+08  1.159877e+06  9.631620e+04     914.986385  7.882322e+04   \n",
       "min    5.971000e+03  1.000000e-02  0.000000e+00       0.000000  0.000000e+00   \n",
       "25%    5.375759e+08  2.000000e+03  3.200000e+01       2.000000  1.900000e+01   \n",
       "50%    1.075079e+09  5.500000e+03  6.300000e+02      12.000000  4.026550e+02   \n",
       "75%    1.610092e+09  1.630000e+04  4.100000e+03      57.000000  3.065000e+03   \n",
       "max    2.147476e+09  1.000000e+08  2.033899e+07  219382.000000  2.033899e+07   \n",
       "\n",
       "       usd_pledged_real  usd_goal_real   pct_of_goal  \n",
       "count      3.704480e+05   3.704480e+05  3.704480e+05  \n",
       "mean       9.147736e+03   4.507701e+04  3.272762e+02  \n",
       "std        9.166483e+04   1.128274e+06  2.697486e+04  \n",
       "min        0.000000e+00   1.000000e-02  0.000000e+00  \n",
       "25%        3.244000e+01   2.000000e+03  4.800000e-01  \n",
       "50%        6.330000e+02   5.500000e+03  1.366667e+01  \n",
       "75%        4.076000e+03   1.596224e+04  1.066667e+02  \n",
       "max        2.033899e+07   1.663614e+08  1.042779e+07  "
      ]
     },
     "execution_count": 33,
     "metadata": {},
     "output_type": "execute_result"
    }
   ],
   "source": [
    "completed.describe()"
   ]
  },
  {
   "cell_type": "code",
   "execution_count": 34,
   "metadata": {},
   "outputs": [
    {
     "data": {
      "text/plain": [
       "failed        197719\n",
       "successful    133956\n",
       "canceled       38773\n",
       "Name: state, dtype: int64"
      ]
     },
     "execution_count": 34,
     "metadata": {},
     "output_type": "execute_result"
    }
   ],
   "source": [
    "completed.state.value_counts()"
   ]
  },
  {
   "cell_type": "markdown",
   "metadata": {},
   "source": [
    "# 4. c) Plot a histogram distribution of all completed projects by pct_of_goal"
   ]
  },
  {
   "cell_type": "code",
   "execution_count": 35,
   "metadata": {},
   "outputs": [],
   "source": [
    "bins100 = np.arange(0,110, 10)\n",
    "median = completed.pct_of_goal.median() "
   ]
  },
  {
   "cell_type": "code",
   "execution_count": 36,
   "metadata": {},
   "outputs": [
    {
     "data": {
      "image/png": "[encoded data removed]",
      "text/plain": [
       "<Figure size 640x480 with 1 Axes>"
      ]
     },
     "metadata": {},
     "output_type": "display_data"
    }
   ],
   "source": [
    "plt.style.use(\"ggplot\")\n",
    "plt.hist(completed.pct_of_goal, bins=bins100)\n",
    "#plt.hist(np.clip(completed.pct_of_goal, 0,100), bins = bins, edgecolor=\"black\")\n",
    "plt.title(\"Distribution of Projects by Percentage of their goals\")\n",
    "plt.xlabel(\"Percent of goal reached\")\n",
    "plt.ylabel(\"Number of Projects\")\n",
    "plt.axvline(median, color=\"blue\", label=\"Percentage Median\", linewidth=2)\n",
    "plt.legend()\n",
    "plt.tight_layout()\n",
    "plt.show()"
   ]
  },
  {
   "cell_type": "code",
   "execution_count": 37,
   "metadata": {},
   "outputs": [
    {
     "name": "stdout",
     "output_type": "stream",
     "text": [
      "lenght:  11\n",
      "[  0  10  20  30  40  50  60  70  80  90 100]\n",
      "13.666666666666666\n"
     ]
    }
   ],
   "source": [
    "maxi = max(completed.pct_of_goal)\n",
    "bins = np.arange(0, 110, 10)\n",
    "#bins = np.append(bins, maxi)\n",
    "print(\"lenght: \",len(bins))\n",
    "print(bins)\n",
    "clipped = np.clip(completed.pct_of_goal, 0,100)\n",
    "\n",
    "print(median)"
   ]
  },
  {
   "cell_type": "code",
   "execution_count": 38,
   "metadata": {},
   "outputs": [
    {
     "data": {
      "image/png": "[encoded data removed]",
      "text/plain": [
       "<Figure size 640x480 with 1 Axes>"
      ]
     },
     "metadata": {},
     "output_type": "display_data"
    }
   ],
   "source": [
    "plt.style.use(\"fivethirtyeight\")\n",
    "plt.hist(completed.pct_of_goal, bins=bins, log=True)\n",
    "#plt.hist(np.clip(completed.pct_of_goal, 110, maxi), bins = bins100, edgecolor=\"black\")\n",
    "plt.title(\"Distribution of Projects by Percentage of their goals\")\n",
    "plt.xlabel(\"Percent of goal reached\")\n",
    "plt.ylabel(\"Number of Projects log\")\n",
    "plt.axvline(median, color=\"red\", label=\"Percentage Median\", linewidth=2)\n",
    "plt.legend()\n",
    "plt.tight_layout()\n",
    "plt.show()"
   ]
  },
  {
   "cell_type": "code",
   "execution_count": 39,
   "metadata": {},
   "outputs": [
    {
     "data": {
      "text/plain": [
       "(-10427.79, 1042778.9]     370430\n",
       "(1042778.9, 2085557.8]          9\n",
       "(2085557.8, 3128336.7]          4\n",
       "(3128336.7, 4171115.6]          2\n",
       "(9385010.1, 10427789.0]         1\n",
       "(6256673.4, 7299452.3]          1\n",
       "(5213894.5, 6256673.4]          1\n",
       "(8342231.2, 9385010.1]          0\n",
       "(7299452.3, 8342231.2]          0\n",
       "(4171115.6, 5213894.5]          0\n",
       "Name: pct_of_goal, dtype: int64"
      ]
     },
     "execution_count": 39,
     "metadata": {},
     "output_type": "execute_result"
    }
   ],
   "source": [
    "dists = completed.pct_of_goal.value_counts(bins=10)\n",
    "dists"
   ]
  },
  {
   "cell_type": "markdown",
   "metadata": {},
   "source": [
    "# 4. c) Create 2 histogram subplots by pct_of_goal: 1) state=successful, and 2) all others (failed) "
   ]
  },
  {
   "cell_type": "code",
   "execution_count": 40,
   "metadata": {},
   "outputs": [],
   "source": [
    "successes = completed[succ][\"pct_of_goal\"]\n",
    "fails = completed[~succ][\"pct_of_goal\"]"
   ]
  },
  {
   "cell_type": "code",
   "execution_count": 41,
   "metadata": {},
   "outputs": [
    {
     "data": {
      "image/png": "[encoded data removed]",
      "text/plain": [
       "<Figure size 640x480 with 2 Axes>"
      ]
     },
     "metadata": {},
     "output_type": "display_data"
    }
   ],
   "source": [
    "binss = 20\n",
    "fig, axs = plt.subplots(1, 2, sharey=True)\n",
    "# We can set the number of bins with the `bins` kwarg\n",
    "axs[0].hist(successes, bins=binss, label=\"Successful\", log=True)\n",
    "axs[1].hist(fails, bins=binss, label=\"others\", log=True)\n",
    "plt.title(\"Successful vs. unsuccessful Projects\")\n",
    "plt.ylabel(\"Number of Projects\")\n",
    "fig.legend(loc=\"center right\")\n",
    "plt.show()"
   ]
  },
  {
   "cell_type": "markdown",
   "metadata": {},
   "source": [
    "# 5. a) What is the average usd_goal_real for all completed kickstarter projects, broken down by main_category."
   ]
  },
  {
   "cell_type": "code",
   "execution_count": 42,
   "metadata": {},
   "outputs": [
    {
     "data": {
      "text/plain": [
       "main_category\n",
       "Technology      102154.155936\n",
       "Film & Video     82378.239866\n",
       "Journalism       65528.614392\n",
       "Food             48661.356201\n",
       "Games            45148.243871\n",
       "Design           42200.736692\n",
       "Art              39468.501476\n",
       "Theater          27149.584643\n",
       "Publishing       22590.745149\n",
       "Fashion          22530.494784\n",
       "Comics           19675.773316\n",
       "Music            15719.399987\n",
       "Photography      12266.908892\n",
       "Crafts           10423.092597\n",
       "Dance             9408.592117\n",
       "Name: usd_goal_real, dtype: float64"
      ]
     },
     "execution_count": 42,
     "metadata": {},
     "output_type": "execute_result"
    }
   ],
   "source": [
    "avg_usd_cat = completed.groupby(\"main_category\")[\"usd_goal_real\"].mean().sort_values(ascending=False)\n",
    "avg_usd_cat"
   ]
  },
  {
   "cell_type": "markdown",
   "metadata": {},
   "source": [
    "# 5. b) What is the median usd_goal_real for all completed kickstarter projects, broken down by main_category."
   ]
  },
  {
   "cell_type": "code",
   "execution_count": 43,
   "metadata": {},
   "outputs": [
    {
     "data": {
      "text/plain": [
       "main_category\n",
       "Technology      20000.00\n",
       "Food            10000.00\n",
       "Design          10000.00\n",
       "Games            8000.00\n",
       "Film & Video     7000.00\n",
       "Fashion          5983.55\n",
       "Publishing       5000.00\n",
       "Journalism       5000.00\n",
       "Photography      4000.00\n",
       "Music            4000.00\n",
       "Comics           3500.00\n",
       "Dance            3310.00\n",
       "Theater          3300.00\n",
       "Art              3000.00\n",
       "Crafts           2330.35\n",
       "Name: usd_goal_real, dtype: float64"
      ]
     },
     "execution_count": 43,
     "metadata": {},
     "output_type": "execute_result"
    }
   ],
   "source": [
    "med_usd_cat = completed.groupby(\"main_category\")[\"usd_goal_real\"].median().sort_values(ascending=False)\n",
    "med_usd_cat"
   ]
  },
  {
   "cell_type": "markdown",
   "metadata": {},
   "source": [
    "# 5. c) What is the average usd_pledged_real for all completed kickstarter projects, broken down by main_category."
   ]
  },
  {
   "cell_type": "code",
   "execution_count": 44,
   "metadata": {},
   "outputs": [
    {
     "data": {
      "text/plain": [
       "main_category\n",
       "Design          24547.721421\n",
       "Games           21288.432988\n",
       "Technology      21186.435891\n",
       "Comics           6653.781332\n",
       "Film & Video     6248.348030\n",
       "Fashion          5762.372201\n",
       "Food             5140.292239\n",
       "Theater          4017.303447\n",
       "Music            3924.185239\n",
       "Photography      3584.669190\n",
       "Dance            3477.962203\n",
       "Publishing       3398.356918\n",
       "Art              3236.015895\n",
       "Journalism       2641.517121\n",
       "Crafts           1651.409030\n",
       "Name: usd_pledged_real, dtype: float64"
      ]
     },
     "execution_count": 44,
     "metadata": {},
     "output_type": "execute_result"
    }
   ],
   "source": [
    "avg_pl_cat = completed.groupby(\"main_category\")[\"usd_pledged_real\"].mean().sort_values(ascending = False)\n",
    "avg_pl_cat"
   ]
  },
  {
   "cell_type": "markdown",
   "metadata": {},
   "source": [
    "# 5. d) What is the median usd_pledged_real for all completed kickstarter projects, broken down by main_category."
   ]
  },
  {
   "cell_type": "code",
   "execution_count": 45,
   "metadata": {},
   "outputs": [
    {
     "data": {
      "text/plain": [
       "main_category\n",
       "Design          1926.000\n",
       "Dance           1865.565\n",
       "Theater         1567.000\n",
       "Comics          1506.500\n",
       "Games           1324.960\n",
       "Music           1010.990\n",
       "Film & Video     760.000\n",
       "Art              431.605\n",
       "Technology       317.000\n",
       "Publishing       291.440\n",
       "Food             260.000\n",
       "Photography      245.000\n",
       "Fashion          245.000\n",
       "Crafts            95.000\n",
       "Journalism        55.000\n",
       "Name: usd_pledged_real, dtype: float64"
      ]
     },
     "execution_count": 45,
     "metadata": {},
     "output_type": "execute_result"
    }
   ],
   "source": [
    "med_pl_cat = completed.groupby(\"main_category\")[\"usd_pledged_real\"].median().sort_values(ascending = False)\n",
    "med_pl_cat"
   ]
  },
  {
   "cell_type": "markdown",
   "metadata": {},
   "source": [
    "# 5. e) What insights does this information provide?\n",
    "Technology projects set the highest goal amounts, while Design projects raised the most money (pledged by crowd)"
   ]
  },
  {
   "cell_type": "markdown",
   "metadata": {},
   "source": [
    "# 5. f) Based on this information, if someone wanted to choose the main_category with the highest combined success rate and pledged dollar amount, which one would you recommend?"
   ]
  },
  {
   "cell_type": "code",
   "execution_count": 46,
   "metadata": {},
   "outputs": [
    {
     "data": {
      "text/html": [
       "<div>\n",
       "<style scoped>\n",
       "    .dataframe tbody tr th:only-of-type {\n",
       "        vertical-align: middle;\n",
       "    }\n",
       "\n",
       "    .dataframe tbody tr th {\n",
       "        vertical-align: top;\n",
       "    }\n",
       "\n",
       "    .dataframe thead th {\n",
       "        text-align: right;\n",
       "    }\n",
       "</style>\n",
       "<table border=\"1\" class=\"dataframe\">\n",
       "  <thead>\n",
       "    <tr style=\"text-align: right;\">\n",
       "      <th></th>\n",
       "      <th>usd_pledged_real</th>\n",
       "    </tr>\n",
       "    <tr>\n",
       "      <th>main_category</th>\n",
       "      <th></th>\n",
       "    </tr>\n",
       "  </thead>\n",
       "  <tbody>\n",
       "    <tr>\n",
       "      <th>Games</th>\n",
       "      <td>678.835557</td>\n",
       "    </tr>\n",
       "    <tr>\n",
       "      <th>Design</th>\n",
       "      <td>663.157430</td>\n",
       "    </tr>\n",
       "    <tr>\n",
       "      <th>Technology</th>\n",
       "      <td>598.913794</td>\n",
       "    </tr>\n",
       "    <tr>\n",
       "      <th>Film &amp; Video</th>\n",
       "      <td>329.585082</td>\n",
       "    </tr>\n",
       "    <tr>\n",
       "      <th>Music</th>\n",
       "      <td>177.560790</td>\n",
       "    </tr>\n",
       "    <tr>\n",
       "      <th>Publishing</th>\n",
       "      <td>116.074002</td>\n",
       "    </tr>\n",
       "    <tr>\n",
       "      <th>Fashion</th>\n",
       "      <td>113.462705</td>\n",
       "    </tr>\n",
       "    <tr>\n",
       "      <th>Food</th>\n",
       "      <td>105.571041</td>\n",
       "    </tr>\n",
       "    <tr>\n",
       "      <th>Art</th>\n",
       "      <td>80.246510</td>\n",
       "    </tr>\n",
       "    <tr>\n",
       "      <th>Comics</th>\n",
       "      <td>66.515027</td>\n",
       "    </tr>\n",
       "    <tr>\n",
       "      <th>Theater</th>\n",
       "      <td>39.028463</td>\n",
       "    </tr>\n",
       "    <tr>\n",
       "      <th>Photography</th>\n",
       "      <td>33.419136</td>\n",
       "    </tr>\n",
       "    <tr>\n",
       "      <th>Dance</th>\n",
       "      <td>12.143610</td>\n",
       "    </tr>\n",
       "    <tr>\n",
       "      <th>Crafts</th>\n",
       "      <td>11.906809</td>\n",
       "    </tr>\n",
       "    <tr>\n",
       "      <th>Journalism</th>\n",
       "      <td>10.469090</td>\n",
       "    </tr>\n",
       "  </tbody>\n",
       "</table>\n",
       "</div>"
      ],
      "text/plain": [
       "               usd_pledged_real\n",
       "main_category                  \n",
       "Games                678.835557\n",
       "Design               663.157430\n",
       "Technology           598.913794\n",
       "Film & Video         329.585082\n",
       "Music                177.560790\n",
       "Publishing           116.074002\n",
       "Fashion              113.462705\n",
       "Food                 105.571041\n",
       "Art                   80.246510\n",
       "Comics                66.515027\n",
       "Theater               39.028463\n",
       "Photography           33.419136\n",
       "Dance                 12.143610\n",
       "Crafts                11.906809\n",
       "Journalism            10.469090"
      ]
     },
     "execution_count": 46,
     "metadata": {},
     "output_type": "execute_result"
    }
   ],
   "source": [
    "# Based on this information, if someone wanted to choose the main_category with the highest combined \n",
    "# success rate and pledged dollar amount, which one would you recommend?\n",
    "((completed[succ][[\"main_category\",\"usd_pledged_real\"]].groupby(\"main_category\").sum())/1000000).sort_values(by=\"usd_pledged_real\",ascending=False)"
   ]
  },
  {
   "cell_type": "markdown",
   "metadata": {},
   "source": [
    "### main_category with the highest combined success rate and pledged dollar amount\n",
    "- calculate success rate of each main_category\n",
    " - sum of successfull projects / sum of all projects grouped by main_category --> already calculated above `rank_perc`\n",
    "- calculate main_category with highest pledged dollars\n",
    " - take above result and sort by highest pledged dollars"
   ]
  },
  {
   "cell_type": "code",
   "execution_count": 47,
   "metadata": {},
   "outputs": [
    {
     "name": "stdout",
     "output_type": "stream",
     "text": [
      "Dance           62.580300\n",
      "Theater         60.226749\n",
      "Comics          54.496269\n",
      "Music           49.127972\n",
      "Art             41.310746\n",
      "Film & Video    37.930315\n",
      "Games           36.051032\n",
      "Design          35.744537\n",
      "Publishing      31.500499\n",
      "Photography     30.960187\n",
      "Food            25.077272\n",
      "Fashion         24.940914\n",
      "Crafts          24.419813\n",
      "Journalism      21.660959\n",
      "Technology      20.254998\n",
      "Name: main_category, dtype: float64\n"
     ]
    }
   ],
   "source": [
    "cat_grouped = completed.groupby('state')\n",
    "cat_perc = 100 * completed[completed.state == 'successful'][\"main_category\"].value_counts() / completed[\"main_category\"].value_counts()\n",
    "print(cat_perc.sort_values(ascending=False))"
   ]
  },
  {
   "cell_type": "markdown",
   "metadata": {},
   "source": [
    "## Conclusion:\n",
    "while the Dance category has the highest success rate, the gaming category definitely raised the most amount of money!\n",
    "### Categories by Success rate:\n",
    "- Dance           62.580300\n",
    "- Theater         60.221198\n",
    "- Comics          54.496269\n",
    "- Music           49.126974\n",
    "- Art             41.309263\n",
    "\n",
    "### Categories by most money raised:\n",
    "in Mio USD:\t\n",
    "- Games \t    678.835557\n",
    "- Design \t    663.157430\n",
    "- Technology \t598.913794\n",
    "- Film & Video \t329.585082\n",
    "- Music \t    177.560790\n",
    "\n",
    "To balance this out, I´d say that \"Music\" has a good chance both in raising money and in terms of success!"
   ]
  },
  {
   "cell_type": "markdown",
   "metadata": {},
   "source": [
    "# 6. a)Create a new column `months` that shows how many months the project was active between launch and deadline."
   ]
  },
  {
   "cell_type": "code",
   "execution_count": 48,
   "metadata": {},
   "outputs": [],
   "source": [
    "# columns to use: deadline - launched = months (new col)\n",
    "completed.loc[\"deadline\"] = pd.to_datetime(completed['deadline'], yearfirst=True)"
   ]
  },
  {
   "cell_type": "code",
   "execution_count": 49,
   "metadata": {},
   "outputs": [
    {
     "name": "stdout",
     "output_type": "stream",
     "text": [
      "<class 'pandas.core.frame.DataFrame'>\n",
      "Index: 370449 entries, 0 to deadline\n",
      "Data columns (total 17 columns):\n",
      "ID                  370448 non-null object\n",
      "name                370445 non-null object\n",
      "category            370448 non-null object\n",
      "main_category       370448 non-null object\n",
      "currency            370448 non-null object\n",
      "deadline            370448 non-null datetime64[ns]\n",
      "goal                370448 non-null float64\n",
      "launched            370448 non-null datetime64[ns]\n",
      "pledged             370448 non-null float64\n",
      "state               370448 non-null object\n",
      "backers             370448 non-null object\n",
      "country             370448 non-null object\n",
      "usd pledged         370216 non-null float64\n",
      "usd_pledged_real    370448 non-null float64\n",
      "usd_goal_real       370448 non-null float64\n",
      "pct_of_goal         370448 non-null float64\n",
      "months              370448 non-null timedelta64[ns]\n",
      "dtypes: datetime64[ns](2), float64(6), object(8), timedelta64[ns](1)\n",
      "memory usage: 50.9+ MB\n"
     ]
    }
   ],
   "source": [
    "#completed.info()\n",
    "completed[\"months\"] = (completed[\"deadline\"] - completed[\"launched\"]).copy()\n",
    "completed.info()"
   ]
  },
  {
   "cell_type": "markdown",
   "metadata": {},
   "source": [
    "# 6. b) Compare the avg months for successful projects vs non-successful. Add visuals if you'd like.\n",
    "on average it took successful projects 31 days (1 month) to be completed"
   ]
  },
  {
   "cell_type": "code",
   "execution_count": 50,
   "metadata": {},
   "outputs": [
    {
     "data": {
      "text/plain": [
       "count                     133956\n",
       "mean     31 days 14:05:32.862215\n",
       "std      11 days 18:44:12.217088\n",
       "min              0 days 00:07:17\n",
       "25%             29 days 00:02:16\n",
       "50%      29 days 11:11:43.500000\n",
       "75%             33 days 14:22:05\n",
       "max             91 days 16:20:08\n",
       "Name: months, dtype: object"
      ]
     },
     "execution_count": 50,
     "metadata": {},
     "output_type": "execute_result"
    }
   ],
   "source": [
    "succ_months = (completed[completed.state==\"successful\"][\"months\"]).describe()\n",
    "succ_months"
   ]
  },
  {
   "cell_type": "markdown",
   "metadata": {},
   "source": [
    "### Avg months for non-successful projects:\n",
    "on average it took unsuccessful projects 34 days to fail"
   ]
  },
  {
   "cell_type": "code",
   "execution_count": 51,
   "metadata": {},
   "outputs": [
    {
     "data": {
      "text/plain": [
       "count                     236492\n",
       "mean     34 days 17:50:17.099593\n",
       "std      13 days 04:45:35.688856\n",
       "min              0 days 00:51:07\n",
       "25%             29 days 03:09:24\n",
       "50%      29 days 18:02:17.500000\n",
       "75%      39 days 10:05:37.750000\n",
       "max             91 days 23:06:13\n",
       "Name: months, dtype: object"
      ]
     },
     "execution_count": 51,
     "metadata": {},
     "output_type": "execute_result"
    }
   ],
   "source": [
    "successful = (completed.state==\"successful\")\n",
    "fail_months = completed[~successful][\"months\"].describe()\n",
    "fail_months"
   ]
  },
  {
   "cell_type": "markdown",
   "metadata": {},
   "source": [
    "# 6. c) Does the length of a project in months seem to have an impact?  \n",
    "looking at the statistics below it doesn´t seem to have a significant impact:\n",
    "- successful projects had a max-runtime of 91 days (3 months)\n",
    "- unsucessful projects have a max-runtime of 91 days (3 months)\n"
   ]
  },
  {
   "cell_type": "markdown",
   "metadata": {},
   "source": [
    "# Let's zoom in on Games: Video Games (main_category: category)\n",
    "\n",
    "# 7. a) Calculate the expected value for the Games: Video Games category, with the expected value defined as (median of usd_pledged_real)* (success rate of completed projects)."
   ]
  },
  {
   "cell_type": "code",
   "execution_count": 52,
   "metadata": {},
   "outputs": [
    {
     "data": {
      "text/plain": [
       "2291.4906440851937"
      ]
     },
     "execution_count": 52,
     "metadata": {},
     "output_type": "execute_result"
    }
   ],
   "source": [
    "# isolate the video games:\n",
    "vg = games[games.category == \"Video Games\"].copy()\n",
    "# calculate success rate:\n",
    "total_vg = vg.shape[0]\n",
    "total_vg\n",
    "vg_succ = vg[vg.state == \"successful\"].shape[0]/total_vg\n",
    "vg_succ\n",
    "# Success rate of video games: 20.40 %\n",
    "\n",
    "#calculate expected value:\n",
    "exp_val = vg[vg.state == \"successful\"].usd_pledged_real.median()*vg_succ\n",
    "exp_val\n",
    "# expected value of the video game category: USD 2291.49"
   ]
  },
  {
   "cell_type": "markdown",
   "metadata": {},
   "source": [
    "# 7. b) Do this again but broken down by deadline year"
   ]
  },
  {
   "cell_type": "code",
   "execution_count": 53,
   "metadata": {},
   "outputs": [],
   "source": [
    "# broken down by deadline year:\n",
    "# extract the year from deadline\n",
    "dl_year = vg.deadline.dt.year\n",
    "vg[\"dl_year\"] = dl_year"
   ]
  },
  {
   "cell_type": "markdown",
   "metadata": {},
   "source": [
    "# 7. c) Show this in a bar chart"
   ]
  },
  {
   "cell_type": "code",
   "execution_count": 54,
   "metadata": {},
   "outputs": [
    {
     "data": {
      "image/png": "[encoded data removed]",
      "text/plain": [
       "<Figure size 640x480 with 1 Axes>"
      ]
     },
     "metadata": {},
     "output_type": "display_data"
    }
   ],
   "source": [
    "# group by year:\n",
    "exp_v_yr = vg.groupby(\"dl_year\")[\"usd_pledged_real\"].median()*vg_succ\n",
    "plt.bar(exp_v_yr.index, exp_v_yr.values)\n",
    "plt.ylabel(\"expected value\")\n",
    "plt.xlabel(\"Year of deadline\")\n",
    "plt.title(\"Expected value of Video Games per Year\")\n",
    "plt.show()"
   ]
  },
  {
   "cell_type": "markdown",
   "metadata": {},
   "source": []
  },
  {
   "cell_type": "markdown",
   "metadata": {},
   "source": [
    "# 7. d) What insights does this data provide you? \n",
    "The years 2012 to 2014 seemed to have been the best years for video game projects\n",
    "Top year by far was 2015 with the highest expected value"
   ]
  },
  {
   "cell_type": "markdown",
   "metadata": {},
   "source": [
    "# Let's zoom in on personal planners\n",
    "\n",
    "# 8. a) Calculate the project count, success rate, and pct_of_goal for all projects with 'planner' in the name. Check for spelling variations in upper/lowercase."
   ]
  },
  {
   "cell_type": "code",
   "execution_count": 55,
   "metadata": {},
   "outputs": [
    {
     "data": {
      "text/plain": [
       "0"
      ]
     },
     "execution_count": 55,
     "metadata": {},
     "output_type": "execute_result"
    }
   ],
   "source": [
    "\n",
    "# remove Null values from Name column:\n",
    "completed.name.dropna(inplace=True)\n",
    "completed.name.isna().sum()"
   ]
  },
  {
   "cell_type": "code",
   "execution_count": 56,
   "metadata": {},
   "outputs": [],
   "source": [
    "# check for rows with planner in name:\n",
    "completed[\"planner\"] = completed.name.str.contains(\"planner\", case=False).copy()\n",
    "#--> 356 rows with planner in name\n",
    "planner = completed[completed.planner == True].copy()"
   ]
  },
  {
   "cell_type": "code",
   "execution_count": 57,
   "metadata": {},
   "outputs": [
    {
     "data": {
      "text/html": [
       "<div>\n",
       "<style scoped>\n",
       "    .dataframe tbody tr th:only-of-type {\n",
       "        vertical-align: middle;\n",
       "    }\n",
       "\n",
       "    .dataframe tbody tr th {\n",
       "        vertical-align: top;\n",
       "    }\n",
       "\n",
       "    .dataframe thead th {\n",
       "        text-align: right;\n",
       "    }\n",
       "</style>\n",
       "<table border=\"1\" class=\"dataframe\">\n",
       "  <thead>\n",
       "    <tr style=\"text-align: right;\">\n",
       "      <th></th>\n",
       "      <th>ID</th>\n",
       "      <th>name</th>\n",
       "      <th>category</th>\n",
       "      <th>main_category</th>\n",
       "      <th>currency</th>\n",
       "      <th>deadline</th>\n",
       "      <th>goal</th>\n",
       "      <th>launched</th>\n",
       "      <th>pledged</th>\n",
       "      <th>state</th>\n",
       "      <th>backers</th>\n",
       "      <th>country</th>\n",
       "      <th>usd pledged</th>\n",
       "      <th>usd_pledged_real</th>\n",
       "      <th>usd_goal_real</th>\n",
       "      <th>pct_of_goal</th>\n",
       "      <th>months</th>\n",
       "      <th>planner</th>\n",
       "    </tr>\n",
       "  </thead>\n",
       "  <tbody>\n",
       "    <tr>\n",
       "      <th>3119</th>\n",
       "      <td>1016125600</td>\n",
       "      <td>RICH Living Weekly Planner 2018</td>\n",
       "      <td>Calendars</td>\n",
       "      <td>Publishing</td>\n",
       "      <td>AUD</td>\n",
       "      <td>2017-10-16</td>\n",
       "      <td>22000.0</td>\n",
       "      <td>2017-09-24 22:10:36</td>\n",
       "      <td>10826.0</td>\n",
       "      <td>failed</td>\n",
       "      <td>138</td>\n",
       "      <td>AU</td>\n",
       "      <td>736.14</td>\n",
       "      <td>8498.31</td>\n",
       "      <td>17269.80</td>\n",
       "      <td>49.209082</td>\n",
       "      <td>21 days 01:49:24</td>\n",
       "      <td>True</td>\n",
       "    </tr>\n",
       "    <tr>\n",
       "      <th>4586</th>\n",
       "      <td>1023441131</td>\n",
       "      <td>Fertility in Focus | An IVF Planner</td>\n",
       "      <td>Product Design</td>\n",
       "      <td>Design</td>\n",
       "      <td>USD</td>\n",
       "      <td>2017-09-28</td>\n",
       "      <td>12500.0</td>\n",
       "      <td>2017-08-29 15:43:20</td>\n",
       "      <td>1020.0</td>\n",
       "      <td>failed</td>\n",
       "      <td>18</td>\n",
       "      <td>US</td>\n",
       "      <td>0.00</td>\n",
       "      <td>1020.00</td>\n",
       "      <td>12500.00</td>\n",
       "      <td>8.160000</td>\n",
       "      <td>29 days 08:16:40</td>\n",
       "      <td>True</td>\n",
       "    </tr>\n",
       "    <tr>\n",
       "      <th>4693</th>\n",
       "      <td>1023899010</td>\n",
       "      <td>The Boss Planner: An Outspoken Guide to Gettin...</td>\n",
       "      <td>Calendars</td>\n",
       "      <td>Publishing</td>\n",
       "      <td>USD</td>\n",
       "      <td>2016-10-30</td>\n",
       "      <td>18286.0</td>\n",
       "      <td>2016-09-30 18:00:38</td>\n",
       "      <td>21421.0</td>\n",
       "      <td>successful</td>\n",
       "      <td>390</td>\n",
       "      <td>US</td>\n",
       "      <td>8241.00</td>\n",
       "      <td>21421.00</td>\n",
       "      <td>18286.00</td>\n",
       "      <td>117.144263</td>\n",
       "      <td>29 days 05:59:22</td>\n",
       "      <td>True</td>\n",
       "    </tr>\n",
       "    <tr>\n",
       "      <th>6242</th>\n",
       "      <td>1031903516</td>\n",
       "      <td>ALPHA PLANNER</td>\n",
       "      <td>Design</td>\n",
       "      <td>Design</td>\n",
       "      <td>EUR</td>\n",
       "      <td>2016-12-01</td>\n",
       "      <td>13000.0</td>\n",
       "      <td>2016-11-01 17:53:09</td>\n",
       "      <td>112.0</td>\n",
       "      <td>failed</td>\n",
       "      <td>7</td>\n",
       "      <td>ES</td>\n",
       "      <td>73.46</td>\n",
       "      <td>119.19</td>\n",
       "      <td>13834.64</td>\n",
       "      <td>0.861533</td>\n",
       "      <td>29 days 06:06:51</td>\n",
       "      <td>True</td>\n",
       "    </tr>\n",
       "    <tr>\n",
       "      <th>6792</th>\n",
       "      <td>1034554436</td>\n",
       "      <td>The Ultimate Bucket List Planner - Time to Get...</td>\n",
       "      <td>Graphic Design</td>\n",
       "      <td>Design</td>\n",
       "      <td>GBP</td>\n",
       "      <td>2015-08-31</td>\n",
       "      <td>985.0</td>\n",
       "      <td>2015-08-03 17:03:06</td>\n",
       "      <td>66.0</td>\n",
       "      <td>failed</td>\n",
       "      <td>7</td>\n",
       "      <td>GB</td>\n",
       "      <td>103.10</td>\n",
       "      <td>100.49</td>\n",
       "      <td>1499.79</td>\n",
       "      <td>6.700271</td>\n",
       "      <td>27 days 06:56:54</td>\n",
       "      <td>True</td>\n",
       "    </tr>\n",
       "  </tbody>\n",
       "</table>\n",
       "</div>"
      ],
      "text/plain": [
       "              ID                                               name  \\\n",
       "3119  1016125600                    RICH Living Weekly Planner 2018   \n",
       "4586  1023441131                Fertility in Focus | An IVF Planner   \n",
       "4693  1023899010  The Boss Planner: An Outspoken Guide to Gettin...   \n",
       "6242  1031903516                                      ALPHA PLANNER   \n",
       "6792  1034554436  The Ultimate Bucket List Planner - Time to Get...   \n",
       "\n",
       "            category main_category currency   deadline     goal  \\\n",
       "3119       Calendars    Publishing      AUD 2017-10-16  22000.0   \n",
       "4586  Product Design        Design      USD 2017-09-28  12500.0   \n",
       "4693       Calendars    Publishing      USD 2016-10-30  18286.0   \n",
       "6242          Design        Design      EUR 2016-12-01  13000.0   \n",
       "6792  Graphic Design        Design      GBP 2015-08-31    985.0   \n",
       "\n",
       "                launched  pledged       state backers country  usd pledged  \\\n",
       "3119 2017-09-24 22:10:36  10826.0      failed     138      AU       736.14   \n",
       "4586 2017-08-29 15:43:20   1020.0      failed      18      US         0.00   \n",
       "4693 2016-09-30 18:00:38  21421.0  successful     390      US      8241.00   \n",
       "6242 2016-11-01 17:53:09    112.0      failed       7      ES        73.46   \n",
       "6792 2015-08-03 17:03:06     66.0      failed       7      GB       103.10   \n",
       "\n",
       "      usd_pledged_real  usd_goal_real  pct_of_goal           months planner  \n",
       "3119           8498.31       17269.80    49.209082 21 days 01:49:24    True  \n",
       "4586           1020.00       12500.00     8.160000 29 days 08:16:40    True  \n",
       "4693          21421.00       18286.00   117.144263 29 days 05:59:22    True  \n",
       "6242            119.19       13834.64     0.861533 29 days 06:06:51    True  \n",
       "6792            100.49        1499.79     6.700271 27 days 06:56:54    True  "
      ]
     },
     "execution_count": 57,
     "metadata": {},
     "output_type": "execute_result"
    }
   ],
   "source": [
    "planner.head()"
   ]
  },
  {
   "cell_type": "markdown",
   "metadata": {},
   "source": [
    "#### Project count: 356"
   ]
  },
  {
   "cell_type": "code",
   "execution_count": 58,
   "metadata": {},
   "outputs": [
    {
     "name": "stderr",
     "output_type": "stream",
     "text": [
      "/opt/conda/lib/python3.6/site-packages/ipykernel_launcher.py:2: UserWarning: Boolean Series key will be reindexed to match DataFrame index.\n",
      "  \n"
     ]
    },
    {
     "data": {
      "text/plain": [
       "0.3595505617977528"
      ]
     },
     "execution_count": 58,
     "metadata": {},
     "output_type": "execute_result"
    }
   ],
   "source": [
    "# success rate = no. of successful projects / total no. of projects\n",
    "planner[succ].name.count()/planner.name.count()\n",
    "# success rate = 35.96%"
   ]
  },
  {
   "cell_type": "markdown",
   "metadata": {},
   "source": [
    "#### Success rate: 35.96%"
   ]
  },
  {
   "cell_type": "code",
   "execution_count": 59,
   "metadata": {},
   "outputs": [
    {
     "data": {
      "image/png": "[encoded data removed]",
      "text/plain": [
       "<Figure size 640x480 with 1 Axes>"
      ]
     },
     "metadata": {},
     "output_type": "display_data"
    }
   ],
   "source": [
    "median1 = planner.pct_of_goal.median()\n",
    "plt.style.use(\"ggplot\")\n",
    "plt.hist(planner.pct_of_goal, bins=30)\n",
    "\n",
    "plt.title(\"Distribution of Planner-Projects by Percentage of their goals\")\n",
    "plt.xlabel(\"Percent of goal reached\")\n",
    "plt.ylabel(\"Number of Planner Projects\")\n",
    "plt.axvline(median1, color=\"blue\", label=\"Percentage Median\", linewidth=2)\n",
    "plt.legend()\n",
    "plt.tight_layout()\n",
    "plt.show()"
   ]
  },
  {
   "cell_type": "markdown",
   "metadata": {},
   "source": [
    "# 8. b) How about all projects with both 'planner' and 'Panda' in the name?\n",
    "only one project :-)"
   ]
  },
  {
   "cell_type": "code",
   "execution_count": 60,
   "metadata": {},
   "outputs": [],
   "source": [
    "planner[\"panda\"] = planner.name.str.contains(\"panda\", case=False).copy()\n",
    "#--> 356 rows with planner in name\n",
    "panda = planner[planner.panda == True].copy()"
   ]
  },
  {
   "cell_type": "code",
   "execution_count": 61,
   "metadata": {},
   "outputs": [
    {
     "data": {
      "text/html": [
       "<div>\n",
       "<style scoped>\n",
       "    .dataframe tbody tr th:only-of-type {\n",
       "        vertical-align: middle;\n",
       "    }\n",
       "\n",
       "    .dataframe tbody tr th {\n",
       "        vertical-align: top;\n",
       "    }\n",
       "\n",
       "    .dataframe thead th {\n",
       "        text-align: right;\n",
       "    }\n",
       "</style>\n",
       "<table border=\"1\" class=\"dataframe\">\n",
       "  <thead>\n",
       "    <tr style=\"text-align: right;\">\n",
       "      <th></th>\n",
       "      <th>ID</th>\n",
       "      <th>name</th>\n",
       "      <th>category</th>\n",
       "      <th>main_category</th>\n",
       "      <th>currency</th>\n",
       "      <th>deadline</th>\n",
       "      <th>goal</th>\n",
       "      <th>launched</th>\n",
       "      <th>pledged</th>\n",
       "      <th>state</th>\n",
       "      <th>backers</th>\n",
       "      <th>country</th>\n",
       "      <th>usd pledged</th>\n",
       "      <th>usd_pledged_real</th>\n",
       "      <th>usd_goal_real</th>\n",
       "      <th>pct_of_goal</th>\n",
       "      <th>months</th>\n",
       "      <th>planner</th>\n",
       "      <th>panda</th>\n",
       "    </tr>\n",
       "  </thead>\n",
       "  <tbody>\n",
       "    <tr>\n",
       "      <th>374940</th>\n",
       "      <td>980774782</td>\n",
       "      <td>Panda Planner Pro: Happiness + Productivity = ...</td>\n",
       "      <td>Product Design</td>\n",
       "      <td>Design</td>\n",
       "      <td>USD</td>\n",
       "      <td>2016-04-02</td>\n",
       "      <td>10000.0</td>\n",
       "      <td>2016-02-29 17:00:53</td>\n",
       "      <td>26944.0</td>\n",
       "      <td>successful</td>\n",
       "      <td>829</td>\n",
       "      <td>US</td>\n",
       "      <td>26944.0</td>\n",
       "      <td>26944.0</td>\n",
       "      <td>10000.0</td>\n",
       "      <td>269.44</td>\n",
       "      <td>32 days 06:59:07</td>\n",
       "      <td>True</td>\n",
       "      <td>True</td>\n",
       "    </tr>\n",
       "  </tbody>\n",
       "</table>\n",
       "</div>"
      ],
      "text/plain": [
       "               ID                                               name  \\\n",
       "374940  980774782  Panda Planner Pro: Happiness + Productivity = ...   \n",
       "\n",
       "              category main_category currency   deadline     goal  \\\n",
       "374940  Product Design        Design      USD 2016-04-02  10000.0   \n",
       "\n",
       "                  launched  pledged       state backers country  usd pledged  \\\n",
       "374940 2016-02-29 17:00:53  26944.0  successful     829      US      26944.0   \n",
       "\n",
       "        usd_pledged_real  usd_goal_real  pct_of_goal           months planner  \\\n",
       "374940           26944.0        10000.0       269.44 32 days 06:59:07    True   \n",
       "\n",
       "        panda  \n",
       "374940   True  "
      ]
     },
     "execution_count": 61,
     "metadata": {},
     "output_type": "execute_result"
    }
   ],
   "source": [
    "panda"
   ]
  },
  {
   "cell_type": "code",
   "execution_count": null,
   "metadata": {},
   "outputs": [],
   "source": []
  }
 ],
 "metadata": {
  "kernelspec": {
   "display_name": "Python 3",
   "language": "python",
   "name": "python3"
  },
  "language_info": {
   "codemirror_mode": {
    "name": "ipython",
    "version": 3
   },
   "file_extension": ".py",
   "mimetype": "text/x-python",
   "name": "python",
   "nbconvert_exporter": "python",
   "pygments_lexer": "ipython3",
   "version": "3.6.6"
  }
 },
 "nbformat": 4,
 "nbformat_minor": 1
}
